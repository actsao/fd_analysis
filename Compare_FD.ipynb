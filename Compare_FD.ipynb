{
 "cells": [
  {
   "cell_type": "code",
   "execution_count": 1,
   "id": "5892b96e-0d77-4e38-9f0a-546401962813",
   "metadata": {},
   "outputs": [],
   "source": [
    "import matplotlib.pyplot as plt\n",
    "import matplotlib.table as tbl\n",
    "import math\n",
    "import numpy as np\n",
    "import pandas as pd\n",
    "\n",
    "import csv\n",
    "import os"
   ]
  },
  {
   "cell_type": "code",
   "execution_count": 4,
   "id": "1611fa09-860d-4296-adbb-0e23b15480d7",
   "metadata": {},
   "outputs": [],
   "source": [
    "# Load data\n",
    "\n",
    "folders = ['FDs', 'FDs_ManySize']\n",
    "\n",
    "# Expects all relevant files to be in this folder\n",
    "folder = 'FDs'\n",
    "files = [f for f in os.listdir(folder) if 'Lung' in f]\n",
    "\n",
    "df_list = []\n",
    "for f in files:\n",
    "    df_dict = {}\n",
    "    with open(os.path.join(folder, f), 'r') as csv_file:\n",
    "        csv_reader = csv.reader(csv_file)\n",
    "        csv_data = list(csv_reader)\n",
    "    \n",
    "    sc_arr = np.asarray(csv_data[4:]).astype(int)\n",
    "    sizes, counts = sc_arr[:, 0], sc_arr[:, 1]\n",
    "    \n",
    "    df_dict = {\n",
    "        'SID':                 '_'.join(f.split('_')[:-2]),\n",
    "        'Lobe':                '',\n",
    "        'Fractal_Dimension':   float(csv_data[0][1]),\n",
    "        'Coefficients':        np.array([csv_data[1][1], csv_data[2][1]]).astype(float),\n",
    "        'Sizes':               sizes,\n",
    "        'Counts':              counts,\n",
    "    }\n",
    "    \n",
    "    if 'left' in f:\n",
    "        df_dict['Lobe'] = 'left'\n",
    "    elif 'right' in f:\n",
    "        df_dict['Lobe'] = 'right'\n",
    "    else:\n",
    "        df_dict['Lobe'] = 'whole'\n",
    "    \n",
    "    df_list.append(df_dict)\n",
    "\n",
    "df1 = pd.DataFrame(df_list)"
   ]
  },
  {
   "cell_type": "code",
   "execution_count": 7,
   "id": "322d6c82-4bbb-4329-a912-1bcf4f8a4205",
   "metadata": {},
   "outputs": [],
   "source": [
    "df1['Fractal_Dimension_2'] = df2['Fractal_Dimension']"
   ]
  },
  {
   "cell_type": "code",
   "execution_count": 13,
   "id": "7020034d-b5ea-43f7-88ba-8b17cd096598",
   "metadata": {},
   "outputs": [
    {
     "data": {
      "text/html": [
       "<div>\n",
       "<style scoped>\n",
       "    .dataframe tbody tr th:only-of-type {\n",
       "        vertical-align: middle;\n",
       "    }\n",
       "\n",
       "    .dataframe tbody tr th {\n",
       "        vertical-align: top;\n",
       "    }\n",
       "\n",
       "    .dataframe thead th {\n",
       "        text-align: right;\n",
       "    }\n",
       "</style>\n",
       "<table border=\"1\" class=\"dataframe\">\n",
       "  <thead>\n",
       "    <tr style=\"text-align: right;\">\n",
       "      <th></th>\n",
       "      <th>Fractal_Dimension</th>\n",
       "      <th>Fractal_Dimension_2</th>\n",
       "      <th>Is_Original_Bigger</th>\n",
       "    </tr>\n",
       "  </thead>\n",
       "  <tbody>\n",
       "    <tr>\n",
       "      <th>0</th>\n",
       "      <td>2.313082</td>\n",
       "      <td>2.347324</td>\n",
       "      <td>False</td>\n",
       "    </tr>\n",
       "    <tr>\n",
       "      <th>1</th>\n",
       "      <td>2.420838</td>\n",
       "      <td>2.429785</td>\n",
       "      <td>False</td>\n",
       "    </tr>\n",
       "    <tr>\n",
       "      <th>2</th>\n",
       "      <td>2.368625</td>\n",
       "      <td>2.369139</td>\n",
       "      <td>False</td>\n",
       "    </tr>\n",
       "    <tr>\n",
       "      <th>3</th>\n",
       "      <td>2.327606</td>\n",
       "      <td>2.328834</td>\n",
       "      <td>False</td>\n",
       "    </tr>\n",
       "    <tr>\n",
       "      <th>4</th>\n",
       "      <td>2.311592</td>\n",
       "      <td>2.359908</td>\n",
       "      <td>False</td>\n",
       "    </tr>\n",
       "    <tr>\n",
       "      <th>...</th>\n",
       "      <td>...</td>\n",
       "      <td>...</td>\n",
       "      <td>...</td>\n",
       "    </tr>\n",
       "    <tr>\n",
       "      <th>664</th>\n",
       "      <td>2.333411</td>\n",
       "      <td>2.288788</td>\n",
       "      <td>True</td>\n",
       "    </tr>\n",
       "    <tr>\n",
       "      <th>665</th>\n",
       "      <td>2.352999</td>\n",
       "      <td>2.262375</td>\n",
       "      <td>True</td>\n",
       "    </tr>\n",
       "    <tr>\n",
       "      <th>666</th>\n",
       "      <td>2.302641</td>\n",
       "      <td>2.338042</td>\n",
       "      <td>False</td>\n",
       "    </tr>\n",
       "    <tr>\n",
       "      <th>667</th>\n",
       "      <td>2.281048</td>\n",
       "      <td>2.370204</td>\n",
       "      <td>False</td>\n",
       "    </tr>\n",
       "    <tr>\n",
       "      <th>668</th>\n",
       "      <td>2.264646</td>\n",
       "      <td>2.385935</td>\n",
       "      <td>False</td>\n",
       "    </tr>\n",
       "  </tbody>\n",
       "</table>\n",
       "<p>669 rows × 3 columns</p>\n",
       "</div>"
      ],
      "text/plain": [
       "     Fractal_Dimension  Fractal_Dimension_2  Is_Original_Bigger\n",
       "0             2.313082             2.347324               False\n",
       "1             2.420838             2.429785               False\n",
       "2             2.368625             2.369139               False\n",
       "3             2.327606             2.328834               False\n",
       "4             2.311592             2.359908               False\n",
       "..                 ...                  ...                 ...\n",
       "664           2.333411             2.288788                True\n",
       "665           2.352999             2.262375                True\n",
       "666           2.302641             2.338042               False\n",
       "667           2.281048             2.370204               False\n",
       "668           2.264646             2.385935               False\n",
       "\n",
       "[669 rows x 3 columns]"
      ]
     },
     "metadata": {},
     "output_type": "display_data"
    }
   ],
   "source": [
    "df1['Is_Original_Bigger'] = df1['Fractal_Dimension'] > df1['Fractal_Dimension_2']\n",
    "display(df1[['Fractal_Dimension', 'Fractal_Dimension_2', 'Is_Original_Bigger']])"
   ]
  },
  {
   "cell_type": "code",
   "execution_count": 15,
   "id": "0a370fdb-1c1a-4316-bb29-ffd1b3c62da8",
   "metadata": {},
   "outputs": [
    {
     "data": {
      "text/plain": [
       "True     350\n",
       "False    319\n",
       "Name: Is_Original_Bigger, dtype: int64"
      ]
     },
     "metadata": {},
     "output_type": "display_data"
    }
   ],
   "source": [
    "display(df1['Is_Original_Bigger'].value_counts())"
   ]
  },
  {
   "cell_type": "code",
   "execution_count": null,
   "id": "174c5fde-2586-4335-a648-70cea1537f28",
   "metadata": {},
   "outputs": [],
   "source": []
  }
 ],
 "metadata": {
  "kernelspec": {
   "display_name": "Python 3",
   "language": "python",
   "name": "python3"
  },
  "language_info": {
   "codemirror_mode": {
    "name": "ipython",
    "version": 3
   },
   "file_extension": ".py",
   "mimetype": "text/x-python",
   "name": "python",
   "nbconvert_exporter": "python",
   "pygments_lexer": "ipython3",
   "version": "3.9.5"
  }
 },
 "nbformat": 4,
 "nbformat_minor": 5
}
