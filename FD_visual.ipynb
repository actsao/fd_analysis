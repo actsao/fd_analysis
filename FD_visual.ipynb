{
 "cells": [
  {
   "cell_type": "code",
   "execution_count": 1,
   "id": "d76cc51a-f155-4d93-816f-b4af1f27d782",
   "metadata": {},
   "outputs": [],
   "source": [
    "import matplotlib.pyplot as plt\n",
    "import matplotlib.table as tbl\n",
    "import math\n",
    "import numpy as np\n",
    "import pandas as pd\n",
    "\n",
    "import csv\n",
    "import os"
   ]
  },
  {
   "cell_type": "code",
   "execution_count": 18,
   "id": "3cea501f-1d93-4d2e-8efc-66496bfdaf51",
   "metadata": {},
   "outputs": [
    {
     "data": {
      "text/html": [
       "<div>\n",
       "<style scoped>\n",
       "    .dataframe tbody tr th:only-of-type {\n",
       "        vertical-align: middle;\n",
       "    }\n",
       "\n",
       "    .dataframe tbody tr th {\n",
       "        vertical-align: top;\n",
       "    }\n",
       "\n",
       "    .dataframe thead th {\n",
       "        text-align: right;\n",
       "    }\n",
       "</style>\n",
       "<table border=\"1\" class=\"dataframe\">\n",
       "  <thead>\n",
       "    <tr style=\"text-align: right;\">\n",
       "      <th></th>\n",
       "      <th>SID</th>\n",
       "      <th>Lobe</th>\n",
       "      <th>Artery_Or_Vein</th>\n",
       "      <th>Fractal_Dimension</th>\n",
       "      <th>Coefficients</th>\n",
       "      <th>Sizes</th>\n",
       "      <th>Counts</th>\n",
       "      <th>R_Squared</th>\n",
       "      <th>Residuals</th>\n",
       "      <th>Pairwise_Slopes</th>\n",
       "    </tr>\n",
       "  </thead>\n",
       "  <tbody>\n",
       "    <tr>\n",
       "      <th>0</th>\n",
       "      <td>001_pect_phfirst_060413</td>\n",
       "      <td>whole</td>\n",
       "      <td></td>\n",
       "      <td>2.355262</td>\n",
       "      <td>[-2.3552624139978007, 14.918577614506201]</td>\n",
       "      <td>[20, 18, 16, 14, 12, 10, 8, 6, 4, 2]</td>\n",
       "      <td>[2400, 3147, 4260, 6038, 8969, 14232, 24483, 4...</td>\n",
       "      <td>0.998611</td>\n",
       "      <td>[-0.07961797186827191, -0.05678875358820612, -...</td>\n",
       "      <td>[-2.571939583215595, -2.570994545279383, -2.61...</td>\n",
       "    </tr>\n",
       "    <tr>\n",
       "      <th>1</th>\n",
       "      <td>002_pect_phfirst_050913</td>\n",
       "      <td>whole</td>\n",
       "      <td></td>\n",
       "      <td>2.279989</td>\n",
       "      <td>[-2.2799893018228397, 14.5101734611689]</td>\n",
       "      <td>[20, 18, 16, 14, 12, 10, 8, 6, 4, 2]</td>\n",
       "      <td>[1991, 2610, 3517, 4920, 7202, 11244, 18919, 3...</td>\n",
       "      <td>0.998712</td>\n",
       "      <td>[-0.08354362227619294, -0.05305127455803138, -...</td>\n",
       "      <td>[-2.5693989305417175, -2.5322673209694835, -2....</td>\n",
       "    </tr>\n",
       "    <tr>\n",
       "      <th>2</th>\n",
       "      <td>004_pect_phfirst_082913</td>\n",
       "      <td>whole</td>\n",
       "      <td></td>\n",
       "      <td>2.316289</td>\n",
       "      <td>[-2.3162892690199874, 14.089640444932893]</td>\n",
       "      <td>[20, 18, 16, 14, 12, 10, 8, 6, 4, 2]</td>\n",
       "      <td>[1218, 1583, 2107, 2912, 4249, 6596, 11148, 21...</td>\n",
       "      <td>0.999597</td>\n",
       "      <td>[-0.04569247857309211, -0.027626298758558043, ...</td>\n",
       "      <td>[-2.487759384762461, -2.427712550705341, -2.42...</td>\n",
       "    </tr>\n",
       "    <tr>\n",
       "      <th>3</th>\n",
       "      <td>005_pect_phfirst_101912</td>\n",
       "      <td>whole</td>\n",
       "      <td></td>\n",
       "      <td>2.422481</td>\n",
       "      <td>[-2.422481228638867, 15.04805456777011]</td>\n",
       "      <td>[20, 18, 16, 14, 12, 10, 8, 6, 4, 2]</td>\n",
       "      <td>[2272, 2990, 4048, 5700, 8549, 13642, 23953, 4...</td>\n",
       "      <td>0.999071</td>\n",
       "      <td>[-0.06253358921689145, -0.0431545740939967, -0...</td>\n",
       "      <td>[-2.6064117551923975, -2.5720982898282987, -2....</td>\n",
       "    </tr>\n",
       "    <tr>\n",
       "      <th>4</th>\n",
       "      <td>006_pect_phfirst_061312_10</td>\n",
       "      <td>whole</td>\n",
       "      <td></td>\n",
       "      <td>2.275588</td>\n",
       "      <td>[-2.2755884841862293, 15.355229778232802]</td>\n",
       "      <td>[20, 18, 16, 14, 12, 10, 8, 6, 4, 2]</td>\n",
       "      <td>[4548, 5994, 8171, 11544, 17185, 27175, 46096,...</td>\n",
       "      <td>0.997116</td>\n",
       "      <td>[-0.11573305995788274, -0.07941884307057379, -...</td>\n",
       "      <td>[-2.6202547632052635, -2.630534438015275, -2.5...</td>\n",
       "    </tr>\n",
       "    <tr>\n",
       "      <th>...</th>\n",
       "      <td>...</td>\n",
       "      <td>...</td>\n",
       "      <td>...</td>\n",
       "      <td>...</td>\n",
       "      <td>...</td>\n",
       "      <td>...</td>\n",
       "      <td>...</td>\n",
       "      <td>...</td>\n",
       "      <td>...</td>\n",
       "      <td>...</td>\n",
       "    </tr>\n",
       "    <tr>\n",
       "      <th>221</th>\n",
       "      <td>384_pect_phfirst_102914</td>\n",
       "      <td>whole</td>\n",
       "      <td></td>\n",
       "      <td>2.410954</td>\n",
       "      <td>[-2.410953995042379, 15.14597090567884]</td>\n",
       "      <td>[20, 18, 16, 14, 12, 10, 8, 6, 4, 2]</td>\n",
       "      <td>[2597, 3399, 4605, 6512, 9699, 15488, 26959, 5...</td>\n",
       "      <td>0.999084</td>\n",
       "      <td>[-0.06128600101370907, -0.046181019125302925, ...</td>\n",
       "      <td>[-2.554318725122681, -2.578142066903286, -2.59...</td>\n",
       "    </tr>\n",
       "    <tr>\n",
       "      <th>222</th>\n",
       "      <td>385_pect_phfirst_040317</td>\n",
       "      <td>whole</td>\n",
       "      <td></td>\n",
       "      <td>2.310679</td>\n",
       "      <td>[-2.3106786144078955, 13.787188101165711]</td>\n",
       "      <td>[20, 18, 16, 14, 12, 10, 8, 6, 4, 2]</td>\n",
       "      <td>[877, 1142, 1534, 2157, 3201, 5100, 8897, 1741...</td>\n",
       "      <td>0.997251</td>\n",
       "      <td>[-0.08850660980077762, -0.06793150229053246, -...</td>\n",
       "      <td>[-2.5059615188411466, -2.5054337415122685, -2....</td>\n",
       "    </tr>\n",
       "    <tr>\n",
       "      <th>223</th>\n",
       "      <td>386_pect_phfirst_080817</td>\n",
       "      <td>whole</td>\n",
       "      <td></td>\n",
       "      <td>2.248268</td>\n",
       "      <td>[-2.2482682002856382, 14.396450383938314]</td>\n",
       "      <td>[20, 18, 16, 14, 12, 10, 8, 6, 4, 2]</td>\n",
       "      <td>[1883, 2475, 3358, 4740, 7051, 11137, 18938, 3...</td>\n",
       "      <td>0.996513</td>\n",
       "      <td>[-0.12061924808032654, -0.08412379865387631, -...</td>\n",
       "      <td>[-2.594654597491348, -2.590399890225276, -2.58...</td>\n",
       "    </tr>\n",
       "    <tr>\n",
       "      <th>224</th>\n",
       "      <td>387_pect_phfirst_090117</td>\n",
       "      <td>whole</td>\n",
       "      <td></td>\n",
       "      <td>2.287457</td>\n",
       "      <td>[-2.287456623605744, 14.421322437710272]</td>\n",
       "      <td>[20, 18, 16, 14, 12, 10, 8, 6, 4, 2]</td>\n",
       "      <td>[1749, 2298, 3100, 4370, 6452, 10260, 17637, 3...</td>\n",
       "      <td>0.997368</td>\n",
       "      <td>[-0.10191533100109851, -0.06992795701901056, -...</td>\n",
       "      <td>[-2.5910558778650055, -2.541647278797334, -2.5...</td>\n",
       "    </tr>\n",
       "    <tr>\n",
       "      <th>225</th>\n",
       "      <td>388_pect_phfirst_080516</td>\n",
       "      <td>whole</td>\n",
       "      <td></td>\n",
       "      <td>2.306811</td>\n",
       "      <td>[-2.306810880868367, 13.455271017660555]</td>\n",
       "      <td>[20, 18, 16, 14, 12, 10, 8, 6, 4, 2]</td>\n",
       "      <td>[657, 849, 1134, 1559, 2295, 3623, 6228, 12052...</td>\n",
       "      <td>0.998855</td>\n",
       "      <td>[-0.05699919437306722, -0.043670810479705224, ...</td>\n",
       "      <td>[-2.4333135257172946, -2.4574616910093408, -2....</td>\n",
       "    </tr>\n",
       "  </tbody>\n",
       "</table>\n",
       "<p>226 rows × 10 columns</p>\n",
       "</div>"
      ],
      "text/plain": [
       "                            SID   Lobe Artery_Or_Vein  Fractal_Dimension  \\\n",
       "0       001_pect_phfirst_060413  whole                          2.355262   \n",
       "1       002_pect_phfirst_050913  whole                          2.279989   \n",
       "2       004_pect_phfirst_082913  whole                          2.316289   \n",
       "3       005_pect_phfirst_101912  whole                          2.422481   \n",
       "4    006_pect_phfirst_061312_10  whole                          2.275588   \n",
       "..                          ...    ...            ...                ...   \n",
       "221     384_pect_phfirst_102914  whole                          2.410954   \n",
       "222     385_pect_phfirst_040317  whole                          2.310679   \n",
       "223     386_pect_phfirst_080817  whole                          2.248268   \n",
       "224     387_pect_phfirst_090117  whole                          2.287457   \n",
       "225     388_pect_phfirst_080516  whole                          2.306811   \n",
       "\n",
       "                                  Coefficients  \\\n",
       "0    [-2.3552624139978007, 14.918577614506201]   \n",
       "1      [-2.2799893018228397, 14.5101734611689]   \n",
       "2    [-2.3162892690199874, 14.089640444932893]   \n",
       "3      [-2.422481228638867, 15.04805456777011]   \n",
       "4    [-2.2755884841862293, 15.355229778232802]   \n",
       "..                                         ...   \n",
       "221    [-2.410953995042379, 15.14597090567884]   \n",
       "222  [-2.3106786144078955, 13.787188101165711]   \n",
       "223  [-2.2482682002856382, 14.396450383938314]   \n",
       "224   [-2.287456623605744, 14.421322437710272]   \n",
       "225   [-2.306810880868367, 13.455271017660555]   \n",
       "\n",
       "                                    Sizes  \\\n",
       "0    [20, 18, 16, 14, 12, 10, 8, 6, 4, 2]   \n",
       "1    [20, 18, 16, 14, 12, 10, 8, 6, 4, 2]   \n",
       "2    [20, 18, 16, 14, 12, 10, 8, 6, 4, 2]   \n",
       "3    [20, 18, 16, 14, 12, 10, 8, 6, 4, 2]   \n",
       "4    [20, 18, 16, 14, 12, 10, 8, 6, 4, 2]   \n",
       "..                                    ...   \n",
       "221  [20, 18, 16, 14, 12, 10, 8, 6, 4, 2]   \n",
       "222  [20, 18, 16, 14, 12, 10, 8, 6, 4, 2]   \n",
       "223  [20, 18, 16, 14, 12, 10, 8, 6, 4, 2]   \n",
       "224  [20, 18, 16, 14, 12, 10, 8, 6, 4, 2]   \n",
       "225  [20, 18, 16, 14, 12, 10, 8, 6, 4, 2]   \n",
       "\n",
       "                                                Counts  R_Squared  \\\n",
       "0    [2400, 3147, 4260, 6038, 8969, 14232, 24483, 4...   0.998611   \n",
       "1    [1991, 2610, 3517, 4920, 7202, 11244, 18919, 3...   0.998712   \n",
       "2    [1218, 1583, 2107, 2912, 4249, 6596, 11148, 21...   0.999597   \n",
       "3    [2272, 2990, 4048, 5700, 8549, 13642, 23953, 4...   0.999071   \n",
       "4    [4548, 5994, 8171, 11544, 17185, 27175, 46096,...   0.997116   \n",
       "..                                                 ...        ...   \n",
       "221  [2597, 3399, 4605, 6512, 9699, 15488, 26959, 5...   0.999084   \n",
       "222  [877, 1142, 1534, 2157, 3201, 5100, 8897, 1741...   0.997251   \n",
       "223  [1883, 2475, 3358, 4740, 7051, 11137, 18938, 3...   0.996513   \n",
       "224  [1749, 2298, 3100, 4370, 6452, 10260, 17637, 3...   0.997368   \n",
       "225  [657, 849, 1134, 1559, 2295, 3623, 6228, 12052...   0.998855   \n",
       "\n",
       "                                             Residuals  \\\n",
       "0    [-0.07961797186827191, -0.05678875358820612, -...   \n",
       "1    [-0.08354362227619294, -0.05305127455803138, -...   \n",
       "2    [-0.04569247857309211, -0.027626298758558043, ...   \n",
       "3    [-0.06253358921689145, -0.0431545740939967, -0...   \n",
       "4    [-0.11573305995788274, -0.07941884307057379, -...   \n",
       "..                                                 ...   \n",
       "221  [-0.06128600101370907, -0.046181019125302925, ...   \n",
       "222  [-0.08850660980077762, -0.06793150229053246, -...   \n",
       "223  [-0.12061924808032654, -0.08412379865387631, -...   \n",
       "224  [-0.10191533100109851, -0.06992795701901056, -...   \n",
       "225  [-0.05699919437306722, -0.043670810479705224, ...   \n",
       "\n",
       "                                       Pairwise_Slopes  \n",
       "0    [-2.571939583215595, -2.570994545279383, -2.61...  \n",
       "1    [-2.5693989305417175, -2.5322673209694835, -2....  \n",
       "2    [-2.487759384762461, -2.427712550705341, -2.42...  \n",
       "3    [-2.6064117551923975, -2.5720982898282987, -2....  \n",
       "4    [-2.6202547632052635, -2.630534438015275, -2.5...  \n",
       "..                                                 ...  \n",
       "221  [-2.554318725122681, -2.578142066903286, -2.59...  \n",
       "222  [-2.5059615188411466, -2.5054337415122685, -2....  \n",
       "223  [-2.594654597491348, -2.590399890225276, -2.58...  \n",
       "224  [-2.5910558778650055, -2.541647278797334, -2.5...  \n",
       "225  [-2.4333135257172946, -2.4574616910093408, -2....  \n",
       "\n",
       "[226 rows x 10 columns]"
      ]
     },
     "metadata": {},
     "output_type": "display_data"
    }
   ],
   "source": [
    "# Load data\n",
    "\n",
    "# Expects all relevant files to be in this folder\n",
    "folder = 'FDs_data/FDs_20Size_allOffsets'\n",
    "files = [f for f in os.listdir(folder) if 'Lung' in f]\n",
    "\n",
    "df_list = []\n",
    "for f in files:\n",
    "    df_dict = {}\n",
    "    with open(os.path.join(folder, f), 'r') as csv_file:\n",
    "        csv_reader = csv.reader(csv_file)\n",
    "        csv_data = list(csv_reader)\n",
    "    \n",
    "    sc_arr = np.asarray(csv_data[4:]).astype(int)\n",
    "    sizes, counts = sc_arr[:, 0], sc_arr[:, 1]\n",
    "    \n",
    "    df_dict = {\n",
    "        'SID':                 '_'.join(f.split('_')[:-2]),\n",
    "        'Lobe':                '',\n",
    "        'Artery_Or_Vein':      '',\n",
    "        'Fractal_Dimension':   float(csv_data[0][1]),\n",
    "        'Coefficients':        np.array([csv_data[1][1], csv_data[2][1]]).astype(float),\n",
    "        'Sizes':               sizes,\n",
    "        'Counts':              counts,\n",
    "    }\n",
    "    \n",
    "    f = f.lower()\n",
    "    if 'left' in f:\n",
    "        df_dict['Lobe'] = 'left'\n",
    "    elif 'right' in f:\n",
    "        df_dict['Lobe'] = 'right'\n",
    "    elif 'whole' in f:\n",
    "        df_dict['Lobe'] = 'whole'\n",
    "    \n",
    "    if 'artery' in f:\n",
    "        df_dict['Artery_Or_Vein'] = 'artery'\n",
    "    elif 'vein' in f:\n",
    "        df_dict['Artery_Or_Vein'] = 'vein'\n",
    "    \n",
    "    df_list.append(df_dict)\n",
    "\n",
    "df = pd.DataFrame(df_list)\n",
    "\n",
    "# Generate Stats!\n",
    "r_squared_list = []\n",
    "residuals_list = []\n",
    "pairwise_slopes_list = []\n",
    "for index, row in df.iterrows():\n",
    "    sizes_log = np.log(row['Sizes'])\n",
    "    counts_log = np.log(row['Counts'])\n",
    "    coeffs = row['Coefficients']\n",
    "    \n",
    "    # Calculate R Squared\n",
    "    correlation_matrix = np.corrcoef(sizes_log, counts_log)\n",
    "    r_squared = correlation_matrix[0, 1]**2\n",
    "    r_squared_list.append(r_squared)\n",
    "    \n",
    "    # Calculate Residuals\n",
    "    residuals = counts_log - np.polyval(coeffs, sizes_log)\n",
    "    residuals_list.append(residuals)\n",
    "    \n",
    "    # Calculate Pairwise Slopes\n",
    "    pairwise_slopes = (counts_log[1:] - counts_log[:-1]) / (sizes_log[1:] - sizes_log[:-1])\n",
    "    pairwise_slopes_list.append(pairwise_slopes)\n",
    "\n",
    "df['R_Squared'] = r_squared_list\n",
    "df['Residuals'] = residuals_list\n",
    "df['Pairwise_Slopes'] = pairwise_slopes_list\n",
    "\n",
    "display(df)"
   ]
  },
  {
   "cell_type": "code",
   "execution_count": 19,
   "id": "0c79189c-8bfe-4872-aab5-202039193f70",
   "metadata": {},
   "outputs": [
    {
     "data": {
      "image/png": "[encoded data removed]",
      "text/plain": [
       "<Figure size 1080x720 with 6 Axes>"
      ]
     },
     "metadata": {
      "needs_background": "light"
     },
     "output_type": "display_data"
    }
   ],
   "source": [
    "# Generate Figures!\n",
    "\n",
    "# Create folders for each lobe\n",
    "lobes = ['Left', 'Right', 'Whole']\n",
    "lobes = ['Whole']\n",
    "for lobe in lobes:\n",
    "    os.makedirs(lobe, exist_ok=True)\n",
    "\n",
    "for num in range(0, len(df)):\n",
    "    # Grab all of the needed values from the dataframe\n",
    "    sizes_log = np.log(df['Sizes'][num])\n",
    "    sizes_log_half = (sizes_log[1:] + sizes_log[:-1]) / 2\n",
    "    counts_log = np.log(df['Counts'][num])\n",
    "    coeffs = df['Coefficients'][num]\n",
    "    r_squared = df['R_Squared'][num]\n",
    "    residuals = df['Residuals'][num]\n",
    "    pairwise_slopes = df['Pairwise_Slopes'][num]\n",
    "    fd = df['Fractal_Dimension'][num]\n",
    "    sid = df['SID'][num]\n",
    "    lobe = df['Lobe'][num]\n",
    "    art_vein = df['Artery_Or_Vein'][num]\n",
    "\n",
    "    fig, axes = plt.subplots(2, 3, figsize=(15, 10))\n",
    "\n",
    "    plt.suptitle(f'{sid} (FD: {fd:.4f})', fontsize='xx-large')\n",
    "\n",
    "    # Log Size vs Log Count w/ Linear Fit\n",
    "    axes[0, 0].plot(sizes_log, np.polyval(coeffs, sizes_log), 'r--')\n",
    "    axes[0, 0].scatter(sizes_log, counts_log, c='k', marker='x')\n",
    "    axes[0, 0].set_title('Log Data w/ Linear Fit')\n",
    "    axes[0, 0].set_xlabel('Sizes (log e)')\n",
    "    axes[0, 0].set_ylabel('Box Counts (log e)')\n",
    "\n",
    "    # Residuals w/ Mean Line\n",
    "    axes[0, 1].hlines(0, min(sizes_log), max(sizes_log), colors='r', linestyles='dashed')\n",
    "    axes[0, 1].scatter(sizes_log, residuals, c='k', marker='x')\n",
    "    axes[0, 1].set_title('Residuals')\n",
    "    axes[0, 1].set_xlabel('Sizes (log e)')\n",
    "    axes[0, 1].set_ylabel('Residual')\n",
    "    yabs_max = abs(max(axes[0, 1].get_ylim(), key=abs))\n",
    "    axes[0, 1].set_ylim(-yabs_max, yabs_max)\n",
    "\n",
    "    # Residuals Hist\n",
    "    axes[0, 2].hist(residuals, orientation='horizontal')\n",
    "    axes[0, 2].set_title('Residuals Histogram')\n",
    "    axes[0, 2].set_xlabel('Counts')\n",
    "    axes[0, 2].set_ylabel('Residuals')\n",
    "    axes[0, 2].set_ylim(-yabs_max, yabs_max)\n",
    "    axes[0, 2].set_xticks([i for i in axes[0, 2].get_xticks() if not i % 1])\n",
    "\n",
    "    # Pairwise_Slope w/ FD Line\n",
    "    axes[1, 1].hlines(fd, min(sizes_log), max(sizes_log), colors='r', linestyles='dashed')\n",
    "    axes[1, 1].scatter(sizes_log_half, -pairwise_slopes, c='k', marker='x')\n",
    "    axes[1, 1].set_title('FD Estimates via Pairwise Slope')\n",
    "    axes[1, 1].set_xlabel('Sizes (log e)')\n",
    "    axes[1, 1].set_ylabel('FD Estimates')\n",
    "#     axes[1, 1].text(max(sizes_log)-4.1, fd+0.02, f'FD = {fd:.5}')\n",
    "    axes[1, 1].text(0.7, fd+0.02, f'FD = {fd:.5}')\n",
    "    yabs_max = abs(max(axes[1, 1].get_ylim()-fd, key=abs))\n",
    "    axes[1, 1].set_ylim(fd-yabs_max, fd+yabs_max)\n",
    "\n",
    "    # Pairwise_Slope Hist\n",
    "    axes[1, 2].hist(-pairwise_slopes, orientation='horizontal')\n",
    "    axes[1, 2].set_title('FD Estimates Histogram')\n",
    "    axes[1, 2].set_xlabel('Counts')\n",
    "    axes[1, 2].set_ylabel('FD Estimates')\n",
    "    axes[1, 2].set_ylim(fd-yabs_max, fd+yabs_max)\n",
    "    axes[1, 2].set_xticks([i for i in axes[1, 2].get_xticks() if not i % 1])\n",
    "\n",
    "    # Data Table\n",
    "    fd_estimate_mean = np.mean(-pairwise_slopes)\n",
    "    fd_estimate_std = np.std(-pairwise_slopes)\n",
    "    \n",
    "#     # Table: Only display powers of 2 (ManySize)\n",
    "#     ind = list(2**np.arange(np.log2(df['Sizes'][num][0]), dtype=int)-1)\n",
    "#     sizes = df['Sizes'][num][::-1][ind]\n",
    "#     boxes = df['Counts'][num][::-1][ind]\n",
    "    \n",
    "    # Table: Only display mutiples of 2\n",
    "    sizes = df['Sizes'][num][::-2]\n",
    "    boxes = df['Counts'][num][::-2]\n",
    "    \n",
    "    # Add to Table\n",
    "    cells = [['Sizes', 'Box Counts']]\n",
    "    for size, count in zip(sizes, boxes):\n",
    "        cells.append([str(size), str(count)])\n",
    "    for i in range(0, 12-len(sizes)):\n",
    "        cells.append(['', ''])\n",
    "\n",
    "    cells.append(['Fractal Dimension', f'{fd:.4f}'])\n",
    "    cells.append(['Linear Fit', f'y = {coeffs[0]:.4f}x + {coeffs[1]:.4f}'])\n",
    "    cells.append(['R Squared', f'{r_squared:.4f}'])\n",
    "    cells.append(['FD Estimate Mean', f'{fd_estimate_mean:.4f} +/- {fd_estimate_std:.4f}'])\n",
    "    cells.append(['Lobe', f'{lobe.capitalize()}'])\n",
    "    if art_vein:\n",
    "        cells.append(['Artery/Vein', f'{art_vein.capitalize()}'])\n",
    "\n",
    "    axes[1, 0].axis('tight')\n",
    "    axes[1, 0].axis('off')\n",
    "    table = axes[1, 0].table(cells, cellLoc='left', loc='upper center')\n",
    "\n",
    "    # More Table Shenanigans\n",
    "    table.auto_set_font_size(False)\n",
    "    table.set_fontsize(11)\n",
    "    for c in table.get_celld().values():\n",
    "        c.visible_edges = ''\n",
    "    table[(0, 0)].visible_edges = 'B'\n",
    "    table[(0, 1)].visible_edges = 'B'\n",
    "\n",
    "    plt.tight_layout()\n",
    "#     plt.savefig(f'{lobe.capitalize()}/{sid}_{lobe}LungVesselParticles_stats.png', facecolor=(1, 1, 1, 1), edgecolor='none')\n",
    "    plt.savefig(f'{lobe.capitalize()}/{sid}_{lobe}LungVesselParticlesConnected{art_vein.capitalize()}_stats.png', facecolor=(1, 1, 1, 1), edgecolor='none')\n",
    "    \n",
    "#     if num > 1:\n",
    "#         break\n",
    "    \n",
    "    # Close all figures except for the first to double check\n",
    "    if num > 0:\n",
    "        plt.close(fig)"
   ]
  },
  {
   "cell_type": "code",
   "execution_count": 10,
   "id": "ccf8a4fb-0f3b-4272-baf8-3893744cd856",
   "metadata": {},
   "outputs": [
    {
     "name": "stdout",
     "output_type": "stream",
     "text": [
      "[0, 1, 3, 7, 15, 31, 63]\n",
      "[ 2  3  5  9 17 33 65]\n",
      "[178507  72913  25381   7901   1949    367     69]\n"
     ]
    }
   ],
   "source": [
    "ind = list(2**np.arange(np.log2(df['Sizes'][num][0]), dtype=int)-1)\n",
    "sizes = df['Sizes'][num][::-1][ind]\n",
    "boxes = df['Counts'][num][::-1][ind]\n",
    "\n",
    "print(ind)\n",
    "print(sizes)\n",
    "print(boxes)"
   ]
  },
  {
   "cell_type": "code",
   "execution_count": 13,
   "id": "48bb18af-42dd-4a1d-b325-a815b98c1663",
   "metadata": {},
   "outputs": [
    {
     "data": {
      "text/plain": [
       "array([ 2,  3,  5,  9, 17, 33, 65])"
      ]
     },
     "execution_count": 13,
     "metadata": {},
     "output_type": "execute_result"
    }
   ],
   "source": [
    "df['Sizes'][num][::-1][ind]"
   ]
  },
  {
   "cell_type": "code",
   "execution_count": 177,
   "id": "ed8769ca-b0c6-45dc-9d15-749c7b468a0a",
   "metadata": {},
   "outputs": [],
   "source": [
    "# Calculate the means / SD for pairwise slopes @ FD < 2 and FD > 3 for each lobe\n",
    "keys = ['left', 'right', 'whole']\n",
    "upper = {key: [] for key in keys}\n",
    "lower = {key: [] for key in keys}\n",
    "\n",
    "for num in range(0, len(df)):\n",
    "    lobe = df['Lobe'][num]\n",
    "    \n",
    "    # FD > 3 and FD < 2\n",
    "    upper[lobe].append(df['Sizes'][num][::-1][np.argmax(-df['Pairwise_Slopes'][num][::-1] > 3)])\n",
    "    lower[lobe].append(df['Sizes'][num][::-1][np.argmax(-df['Pairwise_Slopes'][num][::-1] < 2)])\n",
    "\n",
    "for key in keys:\n",
    "    "
   ]
  },
  {
   "cell_type": "code",
   "execution_count": 184,
   "id": "181c1d5e-f1c4-40ee-86a1-158850098b75",
   "metadata": {},
   "outputs": [
    {
     "data": {
      "text/plain": [
       "['left Mean: 40.54222222222222 +/- 8.774166345683698',\n",
       " 'right Mean: 40.60444444444445 +/- 8.37928545231382',\n",
       " 'whole Mean: 47.10619469026549 +/- 8.950070778242317']"
      ]
     },
     "metadata": {},
     "output_type": "display_data"
    },
    {
     "data": {
      "text/plain": [
       "['left Mean: 33.093333333333334 +/- 6.176313175709636',\n",
       " 'right Mean: 35.26222222222222 +/- 6.26295240597485',\n",
       " 'whole Mean: 36.610619469026545 +/- 6.686313624243545']"
      ]
     },
     "metadata": {},
     "output_type": "display_data"
    }
   ],
   "source": [
    "display([f'{key} Mean: {np.mean(upper[key])} +/- {np.std(upper[key])}' for key in keys])\n",
    "display([f'{key} Mean: {np.mean(lower[key])} +/- {np.std(lower[key])}' for key in keys])"
   ]
  },
  {
   "cell_type": "code",
   "execution_count": 6,
   "id": "81005161-0459-4e6b-9b84-87ceca4b945e",
   "metadata": {},
   "outputs": [],
   "source": [
    "# Find linear fits for the points near when residuals are 0\n",
    "\n",
    "# cells = [['SID', 'Lobe', 'Artery_Or_Vein', 'Fractal_Dimension', 'Linear_Fit', 'R_Squared', 'FD_@_1st_Root', 'FD_@_2nd_Root', 'FD_@_Positive_Residuals']]\n",
    "cells = [['SID', 'Lobe', 'Artery_Or_Vein', 'Fractal_Dimension', 'Linear_Fit', 'R_Squared']]\n",
    "for num in range(0, len(df)):\n",
    "    # Grab all of the needed values from the dataframe\n",
    "    sizes_log = np.log(df['Sizes'][num])\n",
    "    sizes_log_half = (sizes_log[1:] + sizes_log[:-1]) / 2\n",
    "    counts_log = np.log(df['Counts'][num])\n",
    "    coeffs = df['Coefficients'][num]\n",
    "    r_squared = df['R_Squared'][num]\n",
    "    residuals = df['Residuals'][num]\n",
    "    pairwise_slopes = df['Pairwise_Slopes'][num]\n",
    "    fd = df['Fractal_Dimension'][num]\n",
    "    sid = df['SID'][num]\n",
    "    lobe = df['Lobe'][num]\n",
    "    art_vein = df['Artery_Or_Vein'][num]\n",
    "\n",
    "#     zero_crossings = np.where(np.diff(np.sign(np.array(residuals))))[0]\n",
    "#     if len(zero_crossings) > 2:\n",
    "#         display(f'{sid}_{lobe}')\n",
    "#         continue\n",
    "    \n",
    "#     # Fits\n",
    "#     residuals_poly = []\n",
    "#     counts_poly = []\n",
    "#     for i, c in enumerate(zero_crossings):\n",
    "#         residuals_poly.append(np.polynomial.polynomial.Polynomial.fit(x=sizes_log[c-1:c+3], y=residuals[c-1:c+3], deg=1, domain=[]))\n",
    "#         counts_poly.append(np.polynomial.polynomial.Polynomial.fit(x=sizes_log[c-1:c+3], y=counts_log[c-1:c+3], deg=1, domain=[]))\n",
    "    \n",
    "#     counts_with_pos_residuals_poly = np.polynomial.polynomial.Polynomial.fit(x=sizes_log[residuals > 0], y=counts_log[residuals > 0], deg=1, domain=[])\n",
    "    \n",
    "    # See initialization of cells variable for labels\n",
    "#     cells.append([\n",
    "#         f'{sid}',\n",
    "#         f'{lobe}',\n",
    "#         f'{art_vein}',\n",
    "#         f'{fd:.4f}',\n",
    "#         f'y = {coeffs[0]:.4f}x + {coeffs[1]:.4f}',\n",
    "#         f'{r_squared}',\n",
    "#         f'{-counts_poly[0].coef[1]:.4f}',\n",
    "#         f'{-counts_poly[1].coef[1]:.4f}',\n",
    "#         f'{-counts_with_pos_residuals_poly.coef[1]:.4f}',\n",
    "#     ])\n",
    "\n",
    "    cells.append([\n",
    "        f'{sid}',\n",
    "        f'{lobe}',\n",
    "        f'{art_vein}',\n",
    "        f'{fd:.4f}',\n",
    "        f'y = {coeffs[0]:.4f}x + {coeffs[1]:.4f}',\n",
    "        f'{r_squared}',\n",
    "    ])\n",
    "    \n",
    "f = open(f'FDs_20SizeBy1_ArtVein_combined.csv', 'w')\n",
    "writer = csv.writer(f, delimiter=',', lineterminator='\\n')\n",
    "for x in cells:\n",
    "    writer.writerow(x)\n",
    "\n",
    "f.close()"
   ]
  },
  {
   "cell_type": "code",
   "execution_count": 24,
   "id": "0498b3c7-0dca-432c-85aa-418fd33f449d",
   "metadata": {},
   "outputs": [
    {
     "data": {
      "text/plain": [
       "'016_pect_phfirst_022713_left'"
      ]
     },
     "metadata": {},
     "output_type": "display_data"
    },
    {
     "data": {
      "text/plain": [
       "'078_pect_phfirst_061113_left'"
      ]
     },
     "metadata": {},
     "output_type": "display_data"
    },
    {
     "data": {
      "text/plain": [
       "'078_pect_phfirst_061113_whole'"
      ]
     },
     "metadata": {},
     "output_type": "display_data"
    },
    {
     "data": {
      "text/plain": [
       "'081_pect_phfirst_031213_left'"
      ]
     },
     "metadata": {},
     "output_type": "display_data"
    },
    {
     "data": {
      "text/plain": [
       "'081_pect_phfirst_031213_whole'"
      ]
     },
     "metadata": {},
     "output_type": "display_data"
    },
    {
     "data": {
      "text/plain": [
       "'093_pect_phfrist_111612_left'"
      ]
     },
     "metadata": {},
     "output_type": "display_data"
    },
    {
     "data": {
      "text/plain": [
       "'117_pect_phfirst_021414_left'"
      ]
     },
     "metadata": {},
     "output_type": "display_data"
    },
    {
     "data": {
      "text/plain": [
       "'117_pect_phfirst_021414_whole'"
      ]
     },
     "metadata": {},
     "output_type": "display_data"
    },
    {
     "data": {
      "text/plain": [
       "'119_pect_phfirst_102414_right'"
      ]
     },
     "metadata": {},
     "output_type": "display_data"
    },
    {
     "data": {
      "text/plain": [
       "'119_pect_phfirst_102414_whole'"
      ]
     },
     "metadata": {},
     "output_type": "display_data"
    },
    {
     "data": {
      "text/plain": [
       "'135_pect_phfirst_102413_left'"
      ]
     },
     "metadata": {},
     "output_type": "display_data"
    },
    {
     "data": {
      "text/plain": [
       "'141_pect_phfirst_080115_left'"
      ]
     },
     "metadata": {},
     "output_type": "display_data"
    },
    {
     "data": {
      "text/plain": [
       "'150_pect_phfirst_111512_left'"
      ]
     },
     "metadata": {},
     "output_type": "display_data"
    },
    {
     "data": {
      "text/plain": [
       "'175_pect_phfirst_093015_left'"
      ]
     },
     "metadata": {},
     "output_type": "display_data"
    },
    {
     "data": {
      "text/plain": [
       "'186_pect_phfirst_031014_whole'"
      ]
     },
     "metadata": {},
     "output_type": "display_data"
    },
    {
     "data": {
      "text/plain": [
       "'190_pect_phfirst_110514_right'"
      ]
     },
     "metadata": {},
     "output_type": "display_data"
    },
    {
     "data": {
      "text/plain": [
       "'238_pect_phfirst_081616_whole'"
      ]
     },
     "metadata": {},
     "output_type": "display_data"
    },
    {
     "data": {
      "text/plain": [
       "'300_pect_phfirst_091415_left'"
      ]
     },
     "metadata": {},
     "output_type": "display_data"
    },
    {
     "data": {
      "text/plain": [
       "'320_pect_phfirst_120817_left'"
      ]
     },
     "metadata": {},
     "output_type": "display_data"
    },
    {
     "data": {
      "text/plain": [
       "'325_pect_phfirst_020818_whole'"
      ]
     },
     "metadata": {},
     "output_type": "display_data"
    },
    {
     "data": {
      "text/plain": [
       "'338_pect_phfirst_051517_left'"
      ]
     },
     "metadata": {},
     "output_type": "display_data"
    },
    {
     "data": {
      "text/plain": [
       "'338_pect_phfirst_051517_right'"
      ]
     },
     "metadata": {},
     "output_type": "display_data"
    },
    {
     "data": {
      "text/plain": [
       "'338_pect_phfirst_051517_whole'"
      ]
     },
     "metadata": {},
     "output_type": "display_data"
    },
    {
     "data": {
      "text/plain": [
       "'342_pect_phfirst_011618_right'"
      ]
     },
     "metadata": {},
     "output_type": "display_data"
    },
    {
     "data": {
      "text/plain": [
       "'344_pect_phfirst_041118_right'"
      ]
     },
     "metadata": {},
     "output_type": "display_data"
    },
    {
     "data": {
      "text/plain": [
       "'348_pect_phfirst_061218_left'"
      ]
     },
     "metadata": {},
     "output_type": "display_data"
    },
    {
     "data": {
      "image/png": "[encoded data removed]",
      "text/plain": [
       "<Figure size 1080x720 with 6 Axes>"
      ]
     },
     "metadata": {
      "needs_background": "light"
     },
     "output_type": "display_data"
    }
   ],
   "source": [
    "# Find linear fits for the points near when residuals are 0\n",
    "\n",
    "# Create folders for each lobe\n",
    "lobes = ['Left', 'Right', 'Whole']\n",
    "for lobe in lobes:\n",
    "    os.makedirs(lobe, exist_ok=True)\n",
    "\n",
    "for num in range(0, len(df)):\n",
    "    # Grab all of the needed values from the dataframe\n",
    "    sizes_log = np.log(df['Sizes'][num])\n",
    "    sizes_log_half = (sizes_log[1:] + sizes_log[:-1]) / 2\n",
    "    counts_log = np.log(df['Counts'][num])\n",
    "    coeffs = df['Coefficients'][num]\n",
    "    r_squared = df['R_Squared'][num]\n",
    "    residuals = df['Residuals'][num]\n",
    "    pairwise_slopes = df['Pairwise_Slopes'][num]\n",
    "    fd = df['Fractal_Dimension'][num]\n",
    "    sid = df['SID'][num]\n",
    "    lobe = df['Lobe'][num]\n",
    "\n",
    "    zero_crossings = np.where(np.diff(np.sign(np.array(residuals))))[0]\n",
    "    if len(zero_crossings) > 2:\n",
    "        display(f'{sid}_{lobe}')\n",
    "        continue\n",
    "    zero_crossings = zero_crossings[::-1]\n",
    "    \n",
    "    # Fits\n",
    "    residuals_poly = []\n",
    "    counts_poly = []\n",
    "    for i, c in enumerate(zero_crossings):\n",
    "        residuals_poly.append(np.polynomial.polynomial.Polynomial.fit(x=sizes_log[c-1:c+3], y=residuals[c-1:c+3], deg=1, domain=[]))\n",
    "        counts_poly.append(np.polynomial.polynomial.Polynomial.fit(x=sizes_log[c-1:c+3], y=counts_log[c-1:c+3], deg=1, domain=[]))\n",
    "\n",
    "    fig, axes = plt.subplots(2, 3, figsize=(15, 10))\n",
    "\n",
    "    plt.suptitle(f'{sid}_{lobe} (FD: {fd:.4f})', fontsize='xx-large')\n",
    "    \n",
    "    # Log Size vs Log Count w/ Poly Fit\n",
    "    axes[0, 0].plot(sizes_log, np.polyval(coeffs, sizes_log), 'r--')\n",
    "    axes[0, 0].scatter(sizes_log, counts_log, c='k', marker='x')\n",
    "    for i, c in enumerate(zero_crossings):\n",
    "        poly = counts_poly[i]\n",
    "        axes[0, 0].plot(sizes_log[c-1:c+3], poly(sizes_log[c-1:c+3]), 'b--')\n",
    "    axes[0, 0].set_title('Log Data w/ Linear Fit')\n",
    "    axes[0, 0].set_xlabel('Sizes (log e)')\n",
    "    axes[0, 0].set_ylabel('Box Counts (log e)')\n",
    "\n",
    "    # Residuals w/ Mean Line\n",
    "    axes[0, 1].hlines(0, min(sizes_log), max(sizes_log), colors='r', linestyles='dashed')\n",
    "    axes[0, 1].scatter(sizes_log, residuals, c='k', marker='x')\n",
    "    for i, c in enumerate(zero_crossings):\n",
    "        poly = residuals_poly[i]\n",
    "        axes[0, 1].plot(sizes_log[c-1:c+3], poly(sizes_log[c-1:c+3]), 'b--')\n",
    "    axes[0, 1].set_title('Original Linear Fit Residuals')\n",
    "    axes[0, 1].set_xlabel('Sizes (log e)')\n",
    "    axes[0, 1].set_ylabel('Residual')\n",
    "    yabs_max = abs(max(axes[0, 1].get_ylim(), key=abs))\n",
    "    axes[0, 1].set_ylim(-yabs_max, yabs_max)\n",
    "    \n",
    "    # Residuals from Fit @ 1st and 2nd Roots\n",
    "    for i, c in enumerate(zero_crossings):\n",
    "        poly = counts_poly[i]\n",
    "        residuals = counts_log[c-1:c+3]-poly(sizes_log[c-1:c+3])\n",
    "        axes[1, i].hlines(0, min(sizes_log[c-1:c+3]), max(sizes_log[c-1:c+3]), colors='b', linestyles='dashed')\n",
    "        axes[1, i].scatter(sizes_log[c-1:c+3], residuals, c='k', marker='x')\n",
    "        if i:\n",
    "            title = 'Residuals @ 2nd Root'\n",
    "        else:\n",
    "            title = 'Residuals @ 1st Root'\n",
    "        axes[1, i].set_title(title)\n",
    "        axes[1, i].set_xlabel('Sizes (log e)')\n",
    "        axes[1, i].set_ylabel('Residual')\n",
    "        yabs_max = abs(max(axes[1, i].get_ylim(), key=abs))\n",
    "        axes[1, i].set_ylim(-yabs_max, yabs_max)\n",
    "    \n",
    "    # Remove last graph\n",
    "    axes[1, 2].axis('tight')\n",
    "    axes[1, 2].axis('off')\n",
    "    \n",
    "    # Add to Table\n",
    "    cells = []\n",
    "    cells.append(['Fractal Dimension', f'{fd:.4f}'])\n",
    "    cells.append(['Linear Fit', f'y = {coeffs[0]:.4f}x + {coeffs[1]:.4f}'])\n",
    "    cells.append(['FD @ 1st Root', f'{-counts_poly[0].coef[1]:.4f}'])\n",
    "    cells.append(['FD @ 2nd Root', f'{-counts_poly[1].coef[1]:.4f}'])\n",
    "    \n",
    "    axes[0, 2].axis('tight')\n",
    "    axes[0, 2].axis('off')\n",
    "    table = axes[0, 2].table(cells, cellLoc='left', loc='upper center')\n",
    "\n",
    "    # More Table Shenanigans\n",
    "    table.auto_set_font_size(False)\n",
    "    table.set_fontsize(11)\n",
    "    for c in table.get_celld().values():\n",
    "        c.visible_edges = ''\n",
    "#     table[(0, 0)].visible_edges = 'B'\n",
    "#     table[(0, 1)].visible_edges = 'B'\n",
    "\n",
    "    plt.tight_layout()\n",
    "    plt.savefig(f'{lobe.capitalize()}/{sid}_{lobe}LungVesselParticles_stats.png', facecolor=(1, 1, 1, 1), edgecolor='none')\n",
    "    \n",
    "#     if num > 1:\n",
    "#         break\n",
    "    \n",
    "    # Close all figures except for the first to double check\n",
    "    if num > 0:\n",
    "        plt.close(fig)"
   ]
  },
  {
   "cell_type": "code",
   "execution_count": null,
   "id": "fb0a8c2f-98eb-4d42-bbab-368c584a1695",
   "metadata": {},
   "outputs": [],
   "source": []
  }
 ],
 "metadata": {
  "kernelspec": {
   "display_name": "Python 3",
   "language": "python",
   "name": "python3"
  },
  "language_info": {
   "codemirror_mode": {
    "name": "ipython",
    "version": 3
   },
   "file_extension": ".py",
   "mimetype": "text/x-python",
   "name": "python",
   "nbconvert_exporter": "python",
   "pygments_lexer": "ipython3",
   "version": "3.9.5"
  }
 },
 "nbformat": 4,
 "nbformat_minor": 5
}
