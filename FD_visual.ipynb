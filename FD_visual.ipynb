{
 "cells": [
  {
   "cell_type": "code",
   "execution_count": 1,
   "id": "d76cc51a-f155-4d93-816f-b4af1f27d782",
   "metadata": {},
   "outputs": [],
   "source": [
    "import matplotlib.pyplot as plt\n",
    "import matplotlib.table as tbl\n",
    "import math\n",
    "import numpy as np\n",
    "import pandas as pd\n",
    "\n",
    "import csv\n",
    "import os"
   ]
  },
  {
   "cell_type": "code",
   "execution_count": 2,
   "id": "3cea501f-1d93-4d2e-8efc-66496bfdaf51",
   "metadata": {},
   "outputs": [
    {
     "data": {
      "text/html": [
       "<div>\n",
       "<style scoped>\n",
       "    .dataframe tbody tr th:only-of-type {\n",
       "        vertical-align: middle;\n",
       "    }\n",
       "\n",
       "    .dataframe tbody tr th {\n",
       "        vertical-align: top;\n",
       "    }\n",
       "\n",
       "    .dataframe thead th {\n",
       "        text-align: right;\n",
       "    }\n",
       "</style>\n",
       "<table border=\"1\" class=\"dataframe\">\n",
       "  <thead>\n",
       "    <tr style=\"text-align: right;\">\n",
       "      <th></th>\n",
       "      <th>SID</th>\n",
       "      <th>Lobe</th>\n",
       "      <th>Artery_Or_Vein</th>\n",
       "      <th>Fractal_Dimension</th>\n",
       "      <th>Coefficients</th>\n",
       "      <th>Sizes</th>\n",
       "      <th>Counts</th>\n",
       "    </tr>\n",
       "  </thead>\n",
       "  <tbody>\n",
       "    <tr>\n",
       "      <th>0</th>\n",
       "      <td>001_pect_phfirst_060413</td>\n",
       "      <td>left</td>\n",
       "      <td>artery</td>\n",
       "      <td>2.080807</td>\n",
       "      <td>[-2.080806527788844, 13.123758565863053]</td>\n",
       "      <td>[20, 19, 18, 17, 16, 15, 14, 13, 12, 11, 10, 9...</td>\n",
       "      <td>[929, 1050, 1215, 1368, 1567, 1811, 2134, 2517...</td>\n",
       "    </tr>\n",
       "    <tr>\n",
       "      <th>1</th>\n",
       "      <td>001_pect_phfirst_060413</td>\n",
       "      <td>left</td>\n",
       "      <td>vein</td>\n",
       "      <td>1.881112</td>\n",
       "      <td>[-1.8811120271908863, 12.262633043046447]</td>\n",
       "      <td>[20, 19, 18, 17, 16, 15, 14, 13, 12, 11, 10, 9...</td>\n",
       "      <td>[763, 866, 910, 1057, 1197, 1321, 1539, 1728, ...</td>\n",
       "    </tr>\n",
       "    <tr>\n",
       "      <th>2</th>\n",
       "      <td>001_pect_phfirst_060413</td>\n",
       "      <td>right</td>\n",
       "      <td>artery</td>\n",
       "      <td>2.101496</td>\n",
       "      <td>[-2.101495512128949, 13.549671338888514]</td>\n",
       "      <td>[20, 19, 18, 17, 16, 15, 14, 13, 12, 11, 10, 9...</td>\n",
       "      <td>[1298, 1479, 1703, 1949, 2245, 2624, 3090, 361...</td>\n",
       "    </tr>\n",
       "    <tr>\n",
       "      <th>3</th>\n",
       "      <td>001_pect_phfirst_060413</td>\n",
       "      <td>right</td>\n",
       "      <td>vein</td>\n",
       "      <td>1.974267</td>\n",
       "      <td>[-1.9742671817099278, 13.038181596783097]</td>\n",
       "      <td>[20, 19, 18, 17, 16, 15, 14, 13, 12, 11, 10, 9...</td>\n",
       "      <td>[1175, 1350, 1516, 1732, 1952, 2252, 2594, 303...</td>\n",
       "    </tr>\n",
       "    <tr>\n",
       "      <th>4</th>\n",
       "      <td>001_pect_phfirst_060413</td>\n",
       "      <td>whole</td>\n",
       "      <td>artery</td>\n",
       "      <td>2.095123</td>\n",
       "      <td>[-2.095122508272324, 14.055885751802773]</td>\n",
       "      <td>[20, 19, 18, 17, 16, 15, 14, 13, 12, 11, 10, 9...</td>\n",
       "      <td>[2237, 2517, 2869, 3301, 3820, 4436, 5232, 607...</td>\n",
       "    </tr>\n",
       "    <tr>\n",
       "      <th>...</th>\n",
       "      <td>...</td>\n",
       "      <td>...</td>\n",
       "      <td>...</td>\n",
       "      <td>...</td>\n",
       "      <td>...</td>\n",
       "      <td>...</td>\n",
       "      <td>...</td>\n",
       "    </tr>\n",
       "    <tr>\n",
       "      <th>1323</th>\n",
       "      <td>388_pect_phfirst_080516</td>\n",
       "      <td>left</td>\n",
       "      <td>vein</td>\n",
       "      <td>1.775247</td>\n",
       "      <td>[-1.7752467990200678, 10.559392644262035]</td>\n",
       "      <td>[20, 19, 18, 17, 16, 15, 14, 13, 12, 11, 10, 9...</td>\n",
       "      <td>[193, 201, 221, 258, 281, 320, 372, 413, 465, ...</td>\n",
       "    </tr>\n",
       "    <tr>\n",
       "      <th>1324</th>\n",
       "      <td>388_pect_phfirst_080516</td>\n",
       "      <td>right</td>\n",
       "      <td>artery</td>\n",
       "      <td>2.169609</td>\n",
       "      <td>[-2.169608876510907, 12.45034641083019]</td>\n",
       "      <td>[20, 19, 18, 17, 16, 15, 14, 13, 12, 11, 10, 9...</td>\n",
       "      <td>[368, 404, 458, 523, 598, 715, 838, 1027, 1197...</td>\n",
       "    </tr>\n",
       "    <tr>\n",
       "      <th>1325</th>\n",
       "      <td>388_pect_phfirst_080516</td>\n",
       "      <td>right</td>\n",
       "      <td>vein</td>\n",
       "      <td>1.792821</td>\n",
       "      <td>[-1.7928207679226635, 10.925773521170354]</td>\n",
       "      <td>[20, 19, 18, 17, 16, 15, 14, 13, 12, 11, 10, 9...</td>\n",
       "      <td>[249, 287, 311, 352, 392, 422, 519, 569, 653, ...</td>\n",
       "    </tr>\n",
       "    <tr>\n",
       "      <th>1326</th>\n",
       "      <td>388_pect_phfirst_080516</td>\n",
       "      <td>whole</td>\n",
       "      <td>artery</td>\n",
       "      <td>2.150201</td>\n",
       "      <td>[-2.150201448017848, 12.973877864524578]</td>\n",
       "      <td>[20, 19, 18, 17, 16, 15, 14, 13, 12, 11, 10, 9...</td>\n",
       "      <td>[644, 731, 833, 948, 1107, 1279, 1515, 1746, 2...</td>\n",
       "    </tr>\n",
       "    <tr>\n",
       "      <th>1327</th>\n",
       "      <td>388_pect_phfirst_080516</td>\n",
       "      <td>whole</td>\n",
       "      <td>vein</td>\n",
       "      <td>1.783274</td>\n",
       "      <td>[-1.7832738928678538, 11.444936717209632]</td>\n",
       "      <td>[20, 19, 18, 17, 16, 15, 14, 13, 12, 11, 10, 9...</td>\n",
       "      <td>[438, 486, 530, 611, 690, 763, 871, 987, 1147,...</td>\n",
       "    </tr>\n",
       "  </tbody>\n",
       "</table>\n",
       "<p>1328 rows × 7 columns</p>\n",
       "</div>"
      ],
      "text/plain": [
       "                          SID   Lobe Artery_Or_Vein  Fractal_Dimension  \\\n",
       "0     001_pect_phfirst_060413   left         artery           2.080807   \n",
       "1     001_pect_phfirst_060413   left           vein           1.881112   \n",
       "2     001_pect_phfirst_060413  right         artery           2.101496   \n",
       "3     001_pect_phfirst_060413  right           vein           1.974267   \n",
       "4     001_pect_phfirst_060413  whole         artery           2.095123   \n",
       "...                       ...    ...            ...                ...   \n",
       "1323  388_pect_phfirst_080516   left           vein           1.775247   \n",
       "1324  388_pect_phfirst_080516  right         artery           2.169609   \n",
       "1325  388_pect_phfirst_080516  right           vein           1.792821   \n",
       "1326  388_pect_phfirst_080516  whole         artery           2.150201   \n",
       "1327  388_pect_phfirst_080516  whole           vein           1.783274   \n",
       "\n",
       "                                   Coefficients  \\\n",
       "0      [-2.080806527788844, 13.123758565863053]   \n",
       "1     [-1.8811120271908863, 12.262633043046447]   \n",
       "2      [-2.101495512128949, 13.549671338888514]   \n",
       "3     [-1.9742671817099278, 13.038181596783097]   \n",
       "4      [-2.095122508272324, 14.055885751802773]   \n",
       "...                                         ...   \n",
       "1323  [-1.7752467990200678, 10.559392644262035]   \n",
       "1324    [-2.169608876510907, 12.45034641083019]   \n",
       "1325  [-1.7928207679226635, 10.925773521170354]   \n",
       "1326   [-2.150201448017848, 12.973877864524578]   \n",
       "1327  [-1.7832738928678538, 11.444936717209632]   \n",
       "\n",
       "                                                  Sizes  \\\n",
       "0     [20, 19, 18, 17, 16, 15, 14, 13, 12, 11, 10, 9...   \n",
       "1     [20, 19, 18, 17, 16, 15, 14, 13, 12, 11, 10, 9...   \n",
       "2     [20, 19, 18, 17, 16, 15, 14, 13, 12, 11, 10, 9...   \n",
       "3     [20, 19, 18, 17, 16, 15, 14, 13, 12, 11, 10, 9...   \n",
       "4     [20, 19, 18, 17, 16, 15, 14, 13, 12, 11, 10, 9...   \n",
       "...                                                 ...   \n",
       "1323  [20, 19, 18, 17, 16, 15, 14, 13, 12, 11, 10, 9...   \n",
       "1324  [20, 19, 18, 17, 16, 15, 14, 13, 12, 11, 10, 9...   \n",
       "1325  [20, 19, 18, 17, 16, 15, 14, 13, 12, 11, 10, 9...   \n",
       "1326  [20, 19, 18, 17, 16, 15, 14, 13, 12, 11, 10, 9...   \n",
       "1327  [20, 19, 18, 17, 16, 15, 14, 13, 12, 11, 10, 9...   \n",
       "\n",
       "                                                 Counts  \n",
       "0     [929, 1050, 1215, 1368, 1567, 1811, 2134, 2517...  \n",
       "1     [763, 866, 910, 1057, 1197, 1321, 1539, 1728, ...  \n",
       "2     [1298, 1479, 1703, 1949, 2245, 2624, 3090, 361...  \n",
       "3     [1175, 1350, 1516, 1732, 1952, 2252, 2594, 303...  \n",
       "4     [2237, 2517, 2869, 3301, 3820, 4436, 5232, 607...  \n",
       "...                                                 ...  \n",
       "1323  [193, 201, 221, 258, 281, 320, 372, 413, 465, ...  \n",
       "1324  [368, 404, 458, 523, 598, 715, 838, 1027, 1197...  \n",
       "1325  [249, 287, 311, 352, 392, 422, 519, 569, 653, ...  \n",
       "1326  [644, 731, 833, 948, 1107, 1279, 1515, 1746, 2...  \n",
       "1327  [438, 486, 530, 611, 690, 763, 871, 987, 1147,...  \n",
       "\n",
       "[1328 rows x 7 columns]"
      ]
     },
     "metadata": {},
     "output_type": "display_data"
    }
   ],
   "source": [
    "# Load data\n",
    "\n",
    "# Expects all relevant files to be in this folder\n",
    "folder = 'FDs_20SizeBy1_ArtVein'\n",
    "files = [f for f in os.listdir(folder) if 'Lung' in f]\n",
    "\n",
    "df_list = []\n",
    "for f in files:\n",
    "    df_dict = {}\n",
    "    with open(os.path.join(folder, f), 'r') as csv_file:\n",
    "        csv_reader = csv.reader(csv_file)\n",
    "        csv_data = list(csv_reader)\n",
    "    \n",
    "    sc_arr = np.asarray(csv_data[4:]).astype(int)\n",
    "    sizes, counts = sc_arr[:, 0], sc_arr[:, 1]\n",
    "    \n",
    "    df_dict = {\n",
    "        'SID':                 '_'.join(f.split('_')[:-2]),\n",
    "        'Lobe':                '',\n",
    "        'Artery_Or_Vein':      '',\n",
    "        'Fractal_Dimension':   float(csv_data[0][1]),\n",
    "        'Coefficients':        np.array([csv_data[1][1], csv_data[2][1]]).astype(float),\n",
    "        'Sizes':               sizes,\n",
    "        'Counts':              counts,\n",
    "    }\n",
    "    \n",
    "    f = f.lower()\n",
    "    if 'left' in f:\n",
    "        df_dict['Lobe'] = 'left'\n",
    "    elif 'right' in f:\n",
    "        df_dict['Lobe'] = 'right'\n",
    "    elif 'whole' in f:\n",
    "        df_dict['Lobe'] = 'whole'\n",
    "    \n",
    "    if 'artery' in f:\n",
    "        df_dict['Artery_Or_Vein'] = 'artery'\n",
    "    elif 'vein' in f:\n",
    "        df_dict['Artery_Or_Vein'] = 'vein'\n",
    "    \n",
    "    df_list.append(df_dict)\n",
    "\n",
    "df = pd.DataFrame(df_list)\n",
    "display(df)"
   ]
  },
  {
   "cell_type": "code",
   "execution_count": 3,
   "id": "6ffc1589-5c54-4e05-8620-56f71a093b15",
   "metadata": {},
   "outputs": [
    {
     "data": {
      "text/html": [
       "<div>\n",
       "<style scoped>\n",
       "    .dataframe tbody tr th:only-of-type {\n",
       "        vertical-align: middle;\n",
       "    }\n",
       "\n",
       "    .dataframe tbody tr th {\n",
       "        vertical-align: top;\n",
       "    }\n",
       "\n",
       "    .dataframe thead th {\n",
       "        text-align: right;\n",
       "    }\n",
       "</style>\n",
       "<table border=\"1\" class=\"dataframe\">\n",
       "  <thead>\n",
       "    <tr style=\"text-align: right;\">\n",
       "      <th></th>\n",
       "      <th>SID</th>\n",
       "      <th>Lobe</th>\n",
       "      <th>Artery_Or_Vein</th>\n",
       "      <th>Fractal_Dimension</th>\n",
       "      <th>Coefficients</th>\n",
       "      <th>Sizes</th>\n",
       "      <th>Counts</th>\n",
       "      <th>R_Squared</th>\n",
       "      <th>Residuals</th>\n",
       "      <th>Pairwise_Slopes</th>\n",
       "    </tr>\n",
       "  </thead>\n",
       "  <tbody>\n",
       "    <tr>\n",
       "      <th>0</th>\n",
       "      <td>001_pect_phfirst_060413</td>\n",
       "      <td>left</td>\n",
       "      <td>artery</td>\n",
       "      <td>2.080807</td>\n",
       "      <td>[-2.080806527788844, 13.123758565863053]</td>\n",
       "      <td>[20, 19, 18, 17, 16, 15, 14, 13, 12, 11, 10, 9...</td>\n",
       "      <td>[929, 1050, 1215, 1368, 1567, 1811, 2134, 2517...</td>\n",
       "      <td>0.999551</td>\n",
       "      <td>[-0.056110556730355476, -0.04040527418603457, ...</td>\n",
       "      <td>[-2.3869924090398733, -2.699489805356801, -2.0...</td>\n",
       "    </tr>\n",
       "    <tr>\n",
       "      <th>1</th>\n",
       "      <td>001_pect_phfirst_060413</td>\n",
       "      <td>left</td>\n",
       "      <td>vein</td>\n",
       "      <td>1.881112</td>\n",
       "      <td>[-1.8811120271908863, 12.262633043046447]</td>\n",
       "      <td>[20, 19, 18, 17, 16, 15, 14, 13, 12, 11, 10, 9...</td>\n",
       "      <td>[763, 866, 910, 1057, 1197, 1321, 1539, 1728, ...</td>\n",
       "      <td>0.998501</td>\n",
       "      <td>[0.009932998264320148, 0.04007144255563411, -0...</td>\n",
       "      <td>[-2.4686828715121836, -0.916630997193613, -2.6...</td>\n",
       "    </tr>\n",
       "    <tr>\n",
       "      <th>2</th>\n",
       "      <td>001_pect_phfirst_060413</td>\n",
       "      <td>right</td>\n",
       "      <td>artery</td>\n",
       "      <td>2.101496</td>\n",
       "      <td>[-2.101495512128949, 13.549671338888514]</td>\n",
       "      <td>[20, 19, 18, 17, 16, 15, 14, 13, 12, 11, 10, 9...</td>\n",
       "      <td>[1298, 1479, 1703, 1949, 2245, 2624, 3090, 361...</td>\n",
       "      <td>0.999098</td>\n",
       "      <td>[-0.08557351321091389, -0.06282457572189593, -...</td>\n",
       "      <td>[-2.545002558432838, -2.6083311595933485, -2.3...</td>\n",
       "    </tr>\n",
       "    <tr>\n",
       "      <th>3</th>\n",
       "      <td>001_pect_phfirst_060413</td>\n",
       "      <td>right</td>\n",
       "      <td>vein</td>\n",
       "      <td>1.974267</td>\n",
       "      <td>[-1.9742671817099278, 13.038181596783097]</td>\n",
       "      <td>[20, 19, 18, 17, 16, 15, 14, 13, 12, 11, 10, 9...</td>\n",
       "      <td>[1175, 1350, 1516, 1732, 1952, 2252, 2594, 303...</td>\n",
       "      <td>0.999188</td>\n",
       "      <td>[-0.05478225733792641, -0.017212480234837457, ...</td>\n",
       "      <td>[-2.706717252458503, -2.144935360930009, -2.33...</td>\n",
       "    </tr>\n",
       "    <tr>\n",
       "      <th>4</th>\n",
       "      <td>001_pect_phfirst_060413</td>\n",
       "      <td>whole</td>\n",
       "      <td>artery</td>\n",
       "      <td>2.095123</td>\n",
       "      <td>[-2.095122508272324, 14.055885751802773]</td>\n",
       "      <td>[20, 19, 18, 17, 16, 15, 14, 13, 12, 11, 10, 9...</td>\n",
       "      <td>[2237, 2517, 2869, 3301, 3820, 4436, 5232, 607...</td>\n",
       "      <td>0.999304</td>\n",
       "      <td>[-0.06656867523185284, -0.05610237718146305, -...</td>\n",
       "      <td>[-2.2991705846409665, -2.420982949941439, -2.4...</td>\n",
       "    </tr>\n",
       "    <tr>\n",
       "      <th>...</th>\n",
       "      <td>...</td>\n",
       "      <td>...</td>\n",
       "      <td>...</td>\n",
       "      <td>...</td>\n",
       "      <td>...</td>\n",
       "      <td>...</td>\n",
       "      <td>...</td>\n",
       "      <td>...</td>\n",
       "      <td>...</td>\n",
       "      <td>...</td>\n",
       "    </tr>\n",
       "    <tr>\n",
       "      <th>1323</th>\n",
       "      <td>388_pect_phfirst_080516</td>\n",
       "      <td>left</td>\n",
       "      <td>vein</td>\n",
       "      <td>1.775247</td>\n",
       "      <td>[-1.7752467990200678, 10.559392644262035]</td>\n",
       "      <td>[20, 19, 18, 17, 16, 15, 14, 13, 12, 11, 10, 9...</td>\n",
       "      <td>[193, 201, 221, 258, 281, 320, 372, 413, 465, ...</td>\n",
       "      <td>0.998735</td>\n",
       "      <td>[0.021461673990683217, -0.02898186352781984, -...</td>\n",
       "      <td>[-0.7918134258899879, -1.754441808364696, -2.7...</td>\n",
       "    </tr>\n",
       "    <tr>\n",
       "      <th>1324</th>\n",
       "      <td>388_pect_phfirst_080516</td>\n",
       "      <td>right</td>\n",
       "      <td>artery</td>\n",
       "      <td>2.169609</td>\n",
       "      <td>[-2.169608876510907, 12.45034641083019]</td>\n",
       "      <td>[20, 19, 18, 17, 16, 15, 14, 13, 12, 11, 10, 9...</td>\n",
       "      <td>[368, 404, 458, 523, 598, 715, 838, 1027, 1197...</td>\n",
       "      <td>0.999030</td>\n",
       "      <td>[-0.04269614030831814, -0.06065058732481621, -...</td>\n",
       "      <td>[-1.8195739015521653, -2.3203394442245036, -2....</td>\n",
       "    </tr>\n",
       "    <tr>\n",
       "      <th>1325</th>\n",
       "      <td>388_pect_phfirst_080516</td>\n",
       "      <td>right</td>\n",
       "      <td>vein</td>\n",
       "      <td>1.792821</td>\n",
       "      <td>[-1.7928207679226635, 10.925773521170354]</td>\n",
       "      <td>[20, 19, 18, 17, 16, 15, 14, 13, 12, 11, 10, 9...</td>\n",
       "      <td>[249, 287, 311, 352, 392, 422, 519, 569, 653, ...</td>\n",
       "      <td>0.999101</td>\n",
       "      <td>[-0.037509589541874, 0.012560046319867624, -0....</td>\n",
       "      <td>[-2.768964656896477, -1.4853860533750884, -2.1...</td>\n",
       "    </tr>\n",
       "    <tr>\n",
       "      <th>1326</th>\n",
       "      <td>388_pect_phfirst_080516</td>\n",
       "      <td>whole</td>\n",
       "      <td>artery</td>\n",
       "      <td>2.150201</td>\n",
       "      <td>[-2.150201448017848, 12.973877864524578]</td>\n",
       "      <td>[20, 19, 18, 17, 16, 15, 14, 13, 12, 11, 10, 9...</td>\n",
       "      <td>[644, 731, 833, 948, 1107, 1279, 1515, 1746, 2...</td>\n",
       "      <td>0.999397</td>\n",
       "      <td>[-0.06475126595063241, -0.04832744817092571, -...</td>\n",
       "      <td>[-2.4703956951569706, -2.415884880861731, -2.2...</td>\n",
       "    </tr>\n",
       "    <tr>\n",
       "      <th>1327</th>\n",
       "      <td>388_pect_phfirst_080516</td>\n",
       "      <td>whole</td>\n",
       "      <td>vein</td>\n",
       "      <td>1.783274</td>\n",
       "      <td>[-1.7832738928678538, 11.444936717209632]</td>\n",
       "      <td>[20, 19, 18, 17, 16, 15, 14, 13, 12, 11, 10, 9...</td>\n",
       "      <td>[438, 486, 530, 611, 690, 763, 871, 987, 1147,...</td>\n",
       "      <td>0.998982</td>\n",
       "      <td>[-0.02050665338269475, -0.00798693261915151, -...</td>\n",
       "      <td>[-2.027354935293192, -1.6029746047504203, -2.4...</td>\n",
       "    </tr>\n",
       "  </tbody>\n",
       "</table>\n",
       "<p>1328 rows × 10 columns</p>\n",
       "</div>"
      ],
      "text/plain": [
       "                          SID   Lobe Artery_Or_Vein  Fractal_Dimension  \\\n",
       "0     001_pect_phfirst_060413   left         artery           2.080807   \n",
       "1     001_pect_phfirst_060413   left           vein           1.881112   \n",
       "2     001_pect_phfirst_060413  right         artery           2.101496   \n",
       "3     001_pect_phfirst_060413  right           vein           1.974267   \n",
       "4     001_pect_phfirst_060413  whole         artery           2.095123   \n",
       "...                       ...    ...            ...                ...   \n",
       "1323  388_pect_phfirst_080516   left           vein           1.775247   \n",
       "1324  388_pect_phfirst_080516  right         artery           2.169609   \n",
       "1325  388_pect_phfirst_080516  right           vein           1.792821   \n",
       "1326  388_pect_phfirst_080516  whole         artery           2.150201   \n",
       "1327  388_pect_phfirst_080516  whole           vein           1.783274   \n",
       "\n",
       "                                   Coefficients  \\\n",
       "0      [-2.080806527788844, 13.123758565863053]   \n",
       "1     [-1.8811120271908863, 12.262633043046447]   \n",
       "2      [-2.101495512128949, 13.549671338888514]   \n",
       "3     [-1.9742671817099278, 13.038181596783097]   \n",
       "4      [-2.095122508272324, 14.055885751802773]   \n",
       "...                                         ...   \n",
       "1323  [-1.7752467990200678, 10.559392644262035]   \n",
       "1324    [-2.169608876510907, 12.45034641083019]   \n",
       "1325  [-1.7928207679226635, 10.925773521170354]   \n",
       "1326   [-2.150201448017848, 12.973877864524578]   \n",
       "1327  [-1.7832738928678538, 11.444936717209632]   \n",
       "\n",
       "                                                  Sizes  \\\n",
       "0     [20, 19, 18, 17, 16, 15, 14, 13, 12, 11, 10, 9...   \n",
       "1     [20, 19, 18, 17, 16, 15, 14, 13, 12, 11, 10, 9...   \n",
       "2     [20, 19, 18, 17, 16, 15, 14, 13, 12, 11, 10, 9...   \n",
       "3     [20, 19, 18, 17, 16, 15, 14, 13, 12, 11, 10, 9...   \n",
       "4     [20, 19, 18, 17, 16, 15, 14, 13, 12, 11, 10, 9...   \n",
       "...                                                 ...   \n",
       "1323  [20, 19, 18, 17, 16, 15, 14, 13, 12, 11, 10, 9...   \n",
       "1324  [20, 19, 18, 17, 16, 15, 14, 13, 12, 11, 10, 9...   \n",
       "1325  [20, 19, 18, 17, 16, 15, 14, 13, 12, 11, 10, 9...   \n",
       "1326  [20, 19, 18, 17, 16, 15, 14, 13, 12, 11, 10, 9...   \n",
       "1327  [20, 19, 18, 17, 16, 15, 14, 13, 12, 11, 10, 9...   \n",
       "\n",
       "                                                 Counts  R_Squared  \\\n",
       "0     [929, 1050, 1215, 1368, 1567, 1811, 2134, 2517...   0.999551   \n",
       "1     [763, 866, 910, 1057, 1197, 1321, 1539, 1728, ...   0.998501   \n",
       "2     [1298, 1479, 1703, 1949, 2245, 2624, 3090, 361...   0.999098   \n",
       "3     [1175, 1350, 1516, 1732, 1952, 2252, 2594, 303...   0.999188   \n",
       "4     [2237, 2517, 2869, 3301, 3820, 4436, 5232, 607...   0.999304   \n",
       "...                                                 ...        ...   \n",
       "1323  [193, 201, 221, 258, 281, 320, 372, 413, 465, ...   0.998735   \n",
       "1324  [368, 404, 458, 523, 598, 715, 838, 1027, 1197...   0.999030   \n",
       "1325  [249, 287, 311, 352, 392, 422, 519, 569, 653, ...   0.999101   \n",
       "1326  [644, 731, 833, 948, 1107, 1279, 1515, 1746, 2...   0.999397   \n",
       "1327  [438, 486, 530, 611, 690, 763, 871, 987, 1147,...   0.998982   \n",
       "\n",
       "                                              Residuals  \\\n",
       "0     [-0.056110556730355476, -0.04040527418603457, ...   \n",
       "1     [0.009932998264320148, 0.04007144255563411, -0...   \n",
       "2     [-0.08557351321091389, -0.06282457572189593, -...   \n",
       "3     [-0.05478225733792641, -0.017212480234837457, ...   \n",
       "4     [-0.06656867523185284, -0.05610237718146305, -...   \n",
       "...                                                 ...   \n",
       "1323  [0.021461673990683217, -0.02898186352781984, -...   \n",
       "1324  [-0.04269614030831814, -0.06065058732481621, -...   \n",
       "1325  [-0.037509589541874, 0.012560046319867624, -0....   \n",
       "1326  [-0.06475126595063241, -0.04832744817092571, -...   \n",
       "1327  [-0.02050665338269475, -0.00798693261915151, -...   \n",
       "\n",
       "                                        Pairwise_Slopes  \n",
       "0     [-2.3869924090398733, -2.699489805356801, -2.0...  \n",
       "1     [-2.4686828715121836, -0.916630997193613, -2.6...  \n",
       "2     [-2.545002558432838, -2.6083311595933485, -2.3...  \n",
       "3     [-2.706717252458503, -2.144935360930009, -2.33...  \n",
       "4     [-2.2991705846409665, -2.420982949941439, -2.4...  \n",
       "...                                                 ...  \n",
       "1323  [-0.7918134258899879, -1.754441808364696, -2.7...  \n",
       "1324  [-1.8195739015521653, -2.3203394442245036, -2....  \n",
       "1325  [-2.768964656896477, -1.4853860533750884, -2.1...  \n",
       "1326  [-2.4703956951569706, -2.415884880861731, -2.2...  \n",
       "1327  [-2.027354935293192, -1.6029746047504203, -2.4...  \n",
       "\n",
       "[1328 rows x 10 columns]"
      ]
     },
     "execution_count": 3,
     "metadata": {},
     "output_type": "execute_result"
    }
   ],
   "source": [
    "# Generate Stats!\n",
    "\n",
    "r_squared_list = []\n",
    "residuals_list = []\n",
    "pairwise_slopes_list = []\n",
    "for index, row in df.iterrows():\n",
    "    sizes_log = np.log(row['Sizes'])\n",
    "    counts_log = np.log(row['Counts'])\n",
    "    coeffs = row['Coefficients']\n",
    "    \n",
    "    # Calculate R Squared\n",
    "    correlation_matrix = np.corrcoef(sizes_log, counts_log)\n",
    "    r_squared = correlation_matrix[0, 1]**2\n",
    "    r_squared_list.append(r_squared)\n",
    "    \n",
    "    # Calculate Residuals\n",
    "    residuals = counts_log - np.polyval(coeffs, sizes_log)\n",
    "    residuals_list.append(residuals)\n",
    "    \n",
    "    # Calculate Pairwise Slopes\n",
    "    pairwise_slopes = (counts_log[1:] - counts_log[:-1]) / (sizes_log[1:] - sizes_log[:-1])\n",
    "    pairwise_slopes_list.append(pairwise_slopes)\n",
    "\n",
    "df['R_Squared'] = r_squared_list\n",
    "df['Residuals'] = residuals_list\n",
    "df['Pairwise_Slopes'] = pairwise_slopes_list\n",
    "\n",
    "df"
   ]
  },
  {
   "cell_type": "code",
   "execution_count": 9,
   "id": "0c79189c-8bfe-4872-aab5-202039193f70",
   "metadata": {},
   "outputs": [
    {
     "data": {
      "image/png": "[encoded data removed]",
      "text/plain": [
       "<Figure size 1080x720 with 6 Axes>"
      ]
     },
     "metadata": {
      "needs_background": "light"
     },
     "output_type": "display_data"
    }
   ],
   "source": [
    "# Generate Figures!\n",
    "\n",
    "# Create folders for each lobe\n",
    "lobes = ['Left', 'Right', 'Whole']\n",
    "for lobe in lobes:\n",
    "    os.makedirs(lobe, exist_ok=True)\n",
    "\n",
    "for num in range(0, len(df)):\n",
    "    # Grab all of the needed values from the dataframe\n",
    "    sizes_log = np.log(df['Sizes'][num])\n",
    "    sizes_log_half = (sizes_log[1:] + sizes_log[:-1]) / 2\n",
    "    counts_log = np.log(df['Counts'][num])\n",
    "    coeffs = df['Coefficients'][num]\n",
    "    r_squared = df['R_Squared'][num]\n",
    "    residuals = df['Residuals'][num]\n",
    "    pairwise_slopes = df['Pairwise_Slopes'][num]\n",
    "    fd = df['Fractal_Dimension'][num]\n",
    "    sid = df['SID'][num]\n",
    "    lobe = df['Lobe'][num]\n",
    "    art_vein = df['Artery_Or_Vein'][num]\n",
    "\n",
    "    fig, axes = plt.subplots(2, 3, figsize=(15, 10))\n",
    "\n",
    "    plt.suptitle(f'{sid} (FD: {fd:.4f})', fontsize='xx-large')\n",
    "\n",
    "    # Log Size vs Log Count w/ Linear Fit\n",
    "    axes[0, 0].plot(sizes_log, np.polyval(coeffs, sizes_log), 'r--')\n",
    "    axes[0, 0].scatter(sizes_log, counts_log, c='k', marker='x')\n",
    "    axes[0, 0].set_title('Log Data w/ Linear Fit')\n",
    "    axes[0, 0].set_xlabel('Sizes (log e)')\n",
    "    axes[0, 0].set_ylabel('Box Counts (log e)')\n",
    "\n",
    "    # Residuals w/ Mean Line\n",
    "    axes[0, 1].hlines(0, min(sizes_log), max(sizes_log), colors='r', linestyles='dashed')\n",
    "    axes[0, 1].scatter(sizes_log, residuals, c='k', marker='x')\n",
    "    axes[0, 1].set_title('Residuals')\n",
    "    axes[0, 1].set_xlabel('Sizes (log e)')\n",
    "    axes[0, 1].set_ylabel('Residual')\n",
    "    yabs_max = abs(max(axes[0, 1].get_ylim(), key=abs))\n",
    "    axes[0, 1].set_ylim(-yabs_max, yabs_max)\n",
    "\n",
    "    # Residuals Hist\n",
    "    axes[0, 2].hist(residuals, orientation='horizontal')\n",
    "    axes[0, 2].set_title('Residuals Histogram')\n",
    "    axes[0, 2].set_xlabel('Counts')\n",
    "    axes[0, 2].set_ylabel('Residuals')\n",
    "    axes[0, 2].set_ylim(-yabs_max, yabs_max)\n",
    "    axes[0, 2].set_xticks([i for i in axes[0, 2].get_xticks() if not i % 1])\n",
    "\n",
    "    # Pairwise_Slope w/ FD Line\n",
    "    axes[1, 1].hlines(fd, min(sizes_log), max(sizes_log), colors='r', linestyles='dashed')\n",
    "    axes[1, 1].scatter(sizes_log_half, -pairwise_slopes, c='k', marker='x')\n",
    "    axes[1, 1].set_title('FD Estimates via Pairwise Slope')\n",
    "    axes[1, 1].set_xlabel('Sizes (log e)')\n",
    "    axes[1, 1].set_ylabel('FD Estimates')\n",
    "#     axes[1, 1].text(max(sizes_log)-4.1, fd+0.02, f'FD = {fd:.5}')\n",
    "    axes[1, 1].text(0.7, fd+0.02, f'FD = {fd:.5}')\n",
    "    yabs_max = abs(max(axes[1, 1].get_ylim()-fd, key=abs))\n",
    "    axes[1, 1].set_ylim(fd-yabs_max, fd+yabs_max)\n",
    "\n",
    "    # Pairwise_Slope Hist\n",
    "    axes[1, 2].hist(-pairwise_slopes, orientation='horizontal')\n",
    "    axes[1, 2].set_title('FD Estimates Histogram')\n",
    "    axes[1, 2].set_xlabel('Counts')\n",
    "    axes[1, 2].set_ylabel('FD Estimates')\n",
    "    axes[1, 2].set_ylim(fd-yabs_max, fd+yabs_max)\n",
    "    axes[1, 2].set_xticks([i for i in axes[1, 2].get_xticks() if not i % 1])\n",
    "\n",
    "    # Data Table\n",
    "    fd_estimate_mean = np.mean(-pairwise_slopes)\n",
    "    fd_estimate_std = np.std(-pairwise_slopes)\n",
    "\n",
    "    sizes = df['Sizes'][num][::-2]\n",
    "    boxes = df['Counts'][num][::-2]\n",
    "    \n",
    "    # Add to Table\n",
    "    cells = [['Sizes', 'Box Counts']]\n",
    "    for size, count in zip(sizes, boxes):\n",
    "        cells.append([str(size), str(count)])\n",
    "    for i in range(0, 12-len(sizes)):\n",
    "        cells.append(['', ''])\n",
    "\n",
    "    cells.append(['Fractal Dimension', f'{fd:.4f}'])\n",
    "    cells.append(['Linear Fit', f'y = {coeffs[0]:.4f}x + {coeffs[1]:.4f}'])\n",
    "    cells.append(['R Squared', f'{r_squared:.4f}'])\n",
    "    cells.append(['FD Estimate Mean', f'{fd_estimate_mean:.4f} +/- {fd_estimate_std:.4f}'])\n",
    "    cells.append(['Lobe', f'{lobe.capitalize()}'])\n",
    "    cells.append(['Artery/Vein', f'{art_vein.capitalize()}'])\n",
    "\n",
    "    axes[1, 0].axis('tight')\n",
    "    axes[1, 0].axis('off')\n",
    "    table = axes[1, 0].table(cells, cellLoc='left', loc='upper center')\n",
    "\n",
    "    # More Table Shenanigans\n",
    "    table.auto_set_font_size(False)\n",
    "    table.set_fontsize(11)\n",
    "    for c in table.get_celld().values():\n",
    "        c.visible_edges = ''\n",
    "    table[(0, 0)].visible_edges = 'B'\n",
    "    table[(0, 1)].visible_edges = 'B'\n",
    "\n",
    "    plt.tight_layout()\n",
    "#     plt.savefig(f'{lobe.capitalize()}/{sid}_{lobe}LungVesselParticles_stats.png', facecolor=(1, 1, 1, 1), edgecolor='none')\n",
    "    plt.savefig(f'{lobe.capitalize()}/{sid}_{lobe}LungVesselParticlesConnected{art_vein.capitalize()}_stats.png', facecolor=(1, 1, 1, 1), edgecolor='none')\n",
    "    \n",
    "#     if num > 1:\n",
    "#         break\n",
    "    \n",
    "    # Close all figures except for the first to double check\n",
    "    if num > 0:\n",
    "        plt.close(fig)"
   ]
  },
  {
   "cell_type": "code",
   "execution_count": 177,
   "id": "ed8769ca-b0c6-45dc-9d15-749c7b468a0a",
   "metadata": {},
   "outputs": [],
   "source": [
    "# Calculate the means / SD for pairwise slopes @ FD < 2 and FD > 3 for each lobe\n",
    "keys = ['left', 'right', 'whole']\n",
    "upper = {key: [] for key in keys}\n",
    "lower = {key: [] for key in keys}\n",
    "\n",
    "for num in range(0, len(df)):\n",
    "    lobe = df['Lobe'][num]\n",
    "    \n",
    "    # FD > 3 and FD < 2\n",
    "    upper[lobe].append(df['Sizes'][num][::-1][np.argmax(-df['Pairwise_Slopes'][num][::-1] > 3)])\n",
    "    lower[lobe].append(df['Sizes'][num][::-1][np.argmax(-df['Pairwise_Slopes'][num][::-1] < 2)])\n",
    "\n",
    "for key in keys:\n",
    "    "
   ]
  },
  {
   "cell_type": "code",
   "execution_count": 184,
   "id": "181c1d5e-f1c4-40ee-86a1-158850098b75",
   "metadata": {},
   "outputs": [
    {
     "data": {
      "text/plain": [
       "['left Mean: 40.54222222222222 +/- 8.774166345683698',\n",
       " 'right Mean: 40.60444444444445 +/- 8.37928545231382',\n",
       " 'whole Mean: 47.10619469026549 +/- 8.950070778242317']"
      ]
     },
     "metadata": {},
     "output_type": "display_data"
    },
    {
     "data": {
      "text/plain": [
       "['left Mean: 33.093333333333334 +/- 6.176313175709636',\n",
       " 'right Mean: 35.26222222222222 +/- 6.26295240597485',\n",
       " 'whole Mean: 36.610619469026545 +/- 6.686313624243545']"
      ]
     },
     "metadata": {},
     "output_type": "display_data"
    }
   ],
   "source": [
    "display([f'{key} Mean: {np.mean(upper[key])} +/- {np.std(upper[key])}' for key in keys])\n",
    "display([f'{key} Mean: {np.mean(lower[key])} +/- {np.std(lower[key])}' for key in keys])"
   ]
  },
  {
   "cell_type": "code",
   "execution_count": 6,
   "id": "81005161-0459-4e6b-9b84-87ceca4b945e",
   "metadata": {},
   "outputs": [],
   "source": [
    "# Find linear fits for the points near when residuals are 0\n",
    "\n",
    "# cells = [['SID', 'Lobe', 'Artery_Or_Vein', 'Fractal_Dimension', 'Linear_Fit', 'R_Squared', 'FD_@_1st_Root', 'FD_@_2nd_Root', 'FD_@_Positive_Residuals']]\n",
    "cells = [['SID', 'Lobe', 'Artery_Or_Vein', 'Fractal_Dimension', 'Linear_Fit', 'R_Squared']]\n",
    "for num in range(0, len(df)):\n",
    "    # Grab all of the needed values from the dataframe\n",
    "    sizes_log = np.log(df['Sizes'][num])\n",
    "    sizes_log_half = (sizes_log[1:] + sizes_log[:-1]) / 2\n",
    "    counts_log = np.log(df['Counts'][num])\n",
    "    coeffs = df['Coefficients'][num]\n",
    "    r_squared = df['R_Squared'][num]\n",
    "    residuals = df['Residuals'][num]\n",
    "    pairwise_slopes = df['Pairwise_Slopes'][num]\n",
    "    fd = df['Fractal_Dimension'][num]\n",
    "    sid = df['SID'][num]\n",
    "    lobe = df['Lobe'][num]\n",
    "    art_vein = df['Artery_Or_Vein'][num]\n",
    "\n",
    "#     zero_crossings = np.where(np.diff(np.sign(np.array(residuals))))[0]\n",
    "#     if len(zero_crossings) > 2:\n",
    "#         display(f'{sid}_{lobe}')\n",
    "#         continue\n",
    "    \n",
    "#     # Fits\n",
    "#     residuals_poly = []\n",
    "#     counts_poly = []\n",
    "#     for i, c in enumerate(zero_crossings):\n",
    "#         residuals_poly.append(np.polynomial.polynomial.Polynomial.fit(x=sizes_log[c-1:c+3], y=residuals[c-1:c+3], deg=1, domain=[]))\n",
    "#         counts_poly.append(np.polynomial.polynomial.Polynomial.fit(x=sizes_log[c-1:c+3], y=counts_log[c-1:c+3], deg=1, domain=[]))\n",
    "    \n",
    "#     counts_with_pos_residuals_poly = np.polynomial.polynomial.Polynomial.fit(x=sizes_log[residuals > 0], y=counts_log[residuals > 0], deg=1, domain=[])\n",
    "    \n",
    "    # See initialization of cells variable for labels\n",
    "#     cells.append([\n",
    "#         f'{sid}',\n",
    "#         f'{lobe}',\n",
    "#         f'{art_vein}',\n",
    "#         f'{fd:.4f}',\n",
    "#         f'y = {coeffs[0]:.4f}x + {coeffs[1]:.4f}',\n",
    "#         f'{r_squared}',\n",
    "#         f'{-counts_poly[0].coef[1]:.4f}',\n",
    "#         f'{-counts_poly[1].coef[1]:.4f}',\n",
    "#         f'{-counts_with_pos_residuals_poly.coef[1]:.4f}',\n",
    "#     ])\n",
    "\n",
    "    cells.append([\n",
    "        f'{sid}',\n",
    "        f'{lobe}',\n",
    "        f'{art_vein}',\n",
    "        f'{fd:.4f}',\n",
    "        f'y = {coeffs[0]:.4f}x + {coeffs[1]:.4f}',\n",
    "        f'{r_squared}',\n",
    "    ])\n",
    "    \n",
    "f = open(f'FDs_20SizeBy1_ArtVein_combined.csv', 'w')\n",
    "writer = csv.writer(f, delimiter=',', lineterminator='\\n')\n",
    "for x in cells:\n",
    "    writer.writerow(x)\n",
    "\n",
    "f.close()"
   ]
  },
  {
   "cell_type": "code",
   "execution_count": 24,
   "id": "0498b3c7-0dca-432c-85aa-418fd33f449d",
   "metadata": {},
   "outputs": [
    {
     "data": {
      "text/plain": [
       "'016_pect_phfirst_022713_left'"
      ]
     },
     "metadata": {},
     "output_type": "display_data"
    },
    {
     "data": {
      "text/plain": [
       "'078_pect_phfirst_061113_left'"
      ]
     },
     "metadata": {},
     "output_type": "display_data"
    },
    {
     "data": {
      "text/plain": [
       "'078_pect_phfirst_061113_whole'"
      ]
     },
     "metadata": {},
     "output_type": "display_data"
    },
    {
     "data": {
      "text/plain": [
       "'081_pect_phfirst_031213_left'"
      ]
     },
     "metadata": {},
     "output_type": "display_data"
    },
    {
     "data": {
      "text/plain": [
       "'081_pect_phfirst_031213_whole'"
      ]
     },
     "metadata": {},
     "output_type": "display_data"
    },
    {
     "data": {
      "text/plain": [
       "'093_pect_phfrist_111612_left'"
      ]
     },
     "metadata": {},
     "output_type": "display_data"
    },
    {
     "data": {
      "text/plain": [
       "'117_pect_phfirst_021414_left'"
      ]
     },
     "metadata": {},
     "output_type": "display_data"
    },
    {
     "data": {
      "text/plain": [
       "'117_pect_phfirst_021414_whole'"
      ]
     },
     "metadata": {},
     "output_type": "display_data"
    },
    {
     "data": {
      "text/plain": [
       "'119_pect_phfirst_102414_right'"
      ]
     },
     "metadata": {},
     "output_type": "display_data"
    },
    {
     "data": {
      "text/plain": [
       "'119_pect_phfirst_102414_whole'"
      ]
     },
     "metadata": {},
     "output_type": "display_data"
    },
    {
     "data": {
      "text/plain": [
       "'135_pect_phfirst_102413_left'"
      ]
     },
     "metadata": {},
     "output_type": "display_data"
    },
    {
     "data": {
      "text/plain": [
       "'141_pect_phfirst_080115_left'"
      ]
     },
     "metadata": {},
     "output_type": "display_data"
    },
    {
     "data": {
      "text/plain": [
       "'150_pect_phfirst_111512_left'"
      ]
     },
     "metadata": {},
     "output_type": "display_data"
    },
    {
     "data": {
      "text/plain": [
       "'175_pect_phfirst_093015_left'"
      ]
     },
     "metadata": {},
     "output_type": "display_data"
    },
    {
     "data": {
      "text/plain": [
       "'186_pect_phfirst_031014_whole'"
      ]
     },
     "metadata": {},
     "output_type": "display_data"
    },
    {
     "data": {
      "text/plain": [
       "'190_pect_phfirst_110514_right'"
      ]
     },
     "metadata": {},
     "output_type": "display_data"
    },
    {
     "data": {
      "text/plain": [
       "'238_pect_phfirst_081616_whole'"
      ]
     },
     "metadata": {},
     "output_type": "display_data"
    },
    {
     "data": {
      "text/plain": [
       "'300_pect_phfirst_091415_left'"
      ]
     },
     "metadata": {},
     "output_type": "display_data"
    },
    {
     "data": {
      "text/plain": [
       "'320_pect_phfirst_120817_left'"
      ]
     },
     "metadata": {},
     "output_type": "display_data"
    },
    {
     "data": {
      "text/plain": [
       "'325_pect_phfirst_020818_whole'"
      ]
     },
     "metadata": {},
     "output_type": "display_data"
    },
    {
     "data": {
      "text/plain": [
       "'338_pect_phfirst_051517_left'"
      ]
     },
     "metadata": {},
     "output_type": "display_data"
    },
    {
     "data": {
      "text/plain": [
       "'338_pect_phfirst_051517_right'"
      ]
     },
     "metadata": {},
     "output_type": "display_data"
    },
    {
     "data": {
      "text/plain": [
       "'338_pect_phfirst_051517_whole'"
      ]
     },
     "metadata": {},
     "output_type": "display_data"
    },
    {
     "data": {
      "text/plain": [
       "'342_pect_phfirst_011618_right'"
      ]
     },
     "metadata": {},
     "output_type": "display_data"
    },
    {
     "data": {
      "text/plain": [
       "'344_pect_phfirst_041118_right'"
      ]
     },
     "metadata": {},
     "output_type": "display_data"
    },
    {
     "data": {
      "text/plain": [
       "'348_pect_phfirst_061218_left'"
      ]
     },
     "metadata": {},
     "output_type": "display_data"
    },
    {
     "data": {
      "image/png": "[encoded data removed]",
      "text/plain": [
       "<Figure size 1080x720 with 6 Axes>"
      ]
     },
     "metadata": {
      "needs_background": "light"
     },
     "output_type": "display_data"
    }
   ],
   "source": [
    "# Find linear fits for the points near when residuals are 0\n",
    "\n",
    "# Create folders for each lobe\n",
    "lobes = ['Left', 'Right', 'Whole']\n",
    "for lobe in lobes:\n",
    "    os.makedirs(lobe, exist_ok=True)\n",
    "\n",
    "for num in range(0, len(df)):\n",
    "    # Grab all of the needed values from the dataframe\n",
    "    sizes_log = np.log(df['Sizes'][num])\n",
    "    sizes_log_half = (sizes_log[1:] + sizes_log[:-1]) / 2\n",
    "    counts_log = np.log(df['Counts'][num])\n",
    "    coeffs = df['Coefficients'][num]\n",
    "    r_squared = df['R_Squared'][num]\n",
    "    residuals = df['Residuals'][num]\n",
    "    pairwise_slopes = df['Pairwise_Slopes'][num]\n",
    "    fd = df['Fractal_Dimension'][num]\n",
    "    sid = df['SID'][num]\n",
    "    lobe = df['Lobe'][num]\n",
    "\n",
    "    zero_crossings = np.where(np.diff(np.sign(np.array(residuals))))[0]\n",
    "    if len(zero_crossings) > 2:\n",
    "        display(f'{sid}_{lobe}')\n",
    "        continue\n",
    "    zero_crossings = zero_crossings[::-1]\n",
    "    \n",
    "    # Fits\n",
    "    residuals_poly = []\n",
    "    counts_poly = []\n",
    "    for i, c in enumerate(zero_crossings):\n",
    "        residuals_poly.append(np.polynomial.polynomial.Polynomial.fit(x=sizes_log[c-1:c+3], y=residuals[c-1:c+3], deg=1, domain=[]))\n",
    "        counts_poly.append(np.polynomial.polynomial.Polynomial.fit(x=sizes_log[c-1:c+3], y=counts_log[c-1:c+3], deg=1, domain=[]))\n",
    "\n",
    "    fig, axes = plt.subplots(2, 3, figsize=(15, 10))\n",
    "\n",
    "    plt.suptitle(f'{sid}_{lobe} (FD: {fd:.4f})', fontsize='xx-large')\n",
    "    \n",
    "    # Log Size vs Log Count w/ Poly Fit\n",
    "    axes[0, 0].plot(sizes_log, np.polyval(coeffs, sizes_log), 'r--')\n",
    "    axes[0, 0].scatter(sizes_log, counts_log, c='k', marker='x')\n",
    "    for i, c in enumerate(zero_crossings):\n",
    "        poly = counts_poly[i]\n",
    "        axes[0, 0].plot(sizes_log[c-1:c+3], poly(sizes_log[c-1:c+3]), 'b--')\n",
    "    axes[0, 0].set_title('Log Data w/ Linear Fit')\n",
    "    axes[0, 0].set_xlabel('Sizes (log e)')\n",
    "    axes[0, 0].set_ylabel('Box Counts (log e)')\n",
    "\n",
    "    # Residuals w/ Mean Line\n",
    "    axes[0, 1].hlines(0, min(sizes_log), max(sizes_log), colors='r', linestyles='dashed')\n",
    "    axes[0, 1].scatter(sizes_log, residuals, c='k', marker='x')\n",
    "    for i, c in enumerate(zero_crossings):\n",
    "        poly = residuals_poly[i]\n",
    "        axes[0, 1].plot(sizes_log[c-1:c+3], poly(sizes_log[c-1:c+3]), 'b--')\n",
    "    axes[0, 1].set_title('Original Linear Fit Residuals')\n",
    "    axes[0, 1].set_xlabel('Sizes (log e)')\n",
    "    axes[0, 1].set_ylabel('Residual')\n",
    "    yabs_max = abs(max(axes[0, 1].get_ylim(), key=abs))\n",
    "    axes[0, 1].set_ylim(-yabs_max, yabs_max)\n",
    "    \n",
    "    # Residuals from Fit @ 1st and 2nd Roots\n",
    "    for i, c in enumerate(zero_crossings):\n",
    "        poly = counts_poly[i]\n",
    "        residuals = counts_log[c-1:c+3]-poly(sizes_log[c-1:c+3])\n",
    "        axes[1, i].hlines(0, min(sizes_log[c-1:c+3]), max(sizes_log[c-1:c+3]), colors='b', linestyles='dashed')\n",
    "        axes[1, i].scatter(sizes_log[c-1:c+3], residuals, c='k', marker='x')\n",
    "        if i:\n",
    "            title = 'Residuals @ 2nd Root'\n",
    "        else:\n",
    "            title = 'Residuals @ 1st Root'\n",
    "        axes[1, i].set_title(title)\n",
    "        axes[1, i].set_xlabel('Sizes (log e)')\n",
    "        axes[1, i].set_ylabel('Residual')\n",
    "        yabs_max = abs(max(axes[1, i].get_ylim(), key=abs))\n",
    "        axes[1, i].set_ylim(-yabs_max, yabs_max)\n",
    "    \n",
    "    # Remove last graph\n",
    "    axes[1, 2].axis('tight')\n",
    "    axes[1, 2].axis('off')\n",
    "    \n",
    "    # Add to Table\n",
    "    cells = []\n",
    "    cells.append(['Fractal Dimension', f'{fd:.4f}'])\n",
    "    cells.append(['Linear Fit', f'y = {coeffs[0]:.4f}x + {coeffs[1]:.4f}'])\n",
    "    cells.append(['FD @ 1st Root', f'{-counts_poly[0].coef[1]:.4f}'])\n",
    "    cells.append(['FD @ 2nd Root', f'{-counts_poly[1].coef[1]:.4f}'])\n",
    "    \n",
    "    axes[0, 2].axis('tight')\n",
    "    axes[0, 2].axis('off')\n",
    "    table = axes[0, 2].table(cells, cellLoc='left', loc='upper center')\n",
    "\n",
    "    # More Table Shenanigans\n",
    "    table.auto_set_font_size(False)\n",
    "    table.set_fontsize(11)\n",
    "    for c in table.get_celld().values():\n",
    "        c.visible_edges = ''\n",
    "#     table[(0, 0)].visible_edges = 'B'\n",
    "#     table[(0, 1)].visible_edges = 'B'\n",
    "\n",
    "    plt.tight_layout()\n",
    "    plt.savefig(f'{lobe.capitalize()}/{sid}_{lobe}LungVesselParticles_stats.png', facecolor=(1, 1, 1, 1), edgecolor='none')\n",
    "    \n",
    "#     if num > 1:\n",
    "#         break\n",
    "    \n",
    "    # Close all figures except for the first to double check\n",
    "    if num > 0:\n",
    "        plt.close(fig)"
   ]
  },
  {
   "cell_type": "code",
   "execution_count": null,
   "id": "fb0a8c2f-98eb-4d42-bbab-368c584a1695",
   "metadata": {},
   "outputs": [],
   "source": []
  }
 ],
 "metadata": {
  "kernelspec": {
   "display_name": "Python 3",
   "language": "python",
   "name": "python3"
  },
  "language_info": {
   "codemirror_mode": {
    "name": "ipython",
    "version": 3
   },
   "file_extension": ".py",
   "mimetype": "text/x-python",
   "name": "python",
   "nbconvert_exporter": "python",
   "pygments_lexer": "ipython3",
   "version": "3.9.5"
  }
 },
 "nbformat": 4,
 "nbformat_minor": 5
}
