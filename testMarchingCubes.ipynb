{
 "cells": [
  {
   "cell_type": "code",
   "execution_count": 1,
   "id": "49d2f691-3ed5-40aa-ac73-d3b218ebb5c7",
   "metadata": {},
   "outputs": [],
   "source": [
    "import matplotlib.pyplot as plt\n",
    "from mpl_toolkits.mplot3d.art3d import Poly3DCollection\n",
    "import nrrd\n",
    "import numpy as np\n",
    "import pandas as pd\n",
    "\n",
    "from skimage import measure\n",
    "\n",
    "import csv\n",
    "import os"
   ]
  },
  {
   "cell_type": "code",
   "execution_count": 2,
   "id": "a185215f-f73d-467d-b394-7f7d3c3db6cf",
   "metadata": {},
   "outputs": [],
   "source": [
    "def trim(arr, mask):\n",
    "    bounding_box = tuple(\n",
    "        slice(np.min(indexes), np.max(indexes) + 1)\n",
    "        for indexes in np.where(mask))\n",
    "    return arr[bounding_box]"
   ]
  },
  {
   "cell_type": "code",
   "execution_count": 8,
   "id": "22489e02-3b6a-41c2-85d4-ec4030797d10",
   "metadata": {},
   "outputs": [],
   "source": [
    "data, _ = nrrd.read('013.nrrd')\n",
    "\n",
    "data = trim(data, data != 0)"
   ]
  },
  {
   "cell_type": "code",
   "execution_count": 2,
   "id": "bbca654e-61e9-4538-9344-fbff4ca74664",
   "metadata": {},
   "outputs": [
    {
     "ename": "NameError",
     "evalue": "name 'measure' is not defined",
     "output_type": "error",
     "traceback": [
      "\u001b[1;31m---------------------------------------------------------------------------\u001b[0m",
      "\u001b[1;31mNameError\u001b[0m                                 Traceback (most recent call last)",
      "\u001b[1;32m<ipython-input-2-bb9fbd1db6e6>\u001b[0m in \u001b[0;36m<module>\u001b[1;34m\u001b[0m\n\u001b[0;32m      2\u001b[0m \u001b[0mspace_conversion\u001b[0m \u001b[1;33m=\u001b[0m \u001b[1;36m0.62540192926045013e-3\u001b[0m\u001b[1;33m\u001b[0m\u001b[1;33m\u001b[0m\u001b[0m\n\u001b[0;32m      3\u001b[0m \u001b[1;33m\u001b[0m\u001b[0m\n\u001b[1;32m----> 4\u001b[1;33m \u001b[0mverts\u001b[0m\u001b[1;33m,\u001b[0m \u001b[0mfaces\u001b[0m\u001b[1;33m,\u001b[0m \u001b[0m_\u001b[0m\u001b[1;33m,\u001b[0m \u001b[0m_\u001b[0m \u001b[1;33m=\u001b[0m \u001b[0mmeasure\u001b[0m\u001b[1;33m.\u001b[0m\u001b[0mmarching_cubes\u001b[0m\u001b[1;33m(\u001b[0m\u001b[0mdata\u001b[0m\u001b[1;33m,\u001b[0m \u001b[1;36m0\u001b[0m\u001b[1;33m)\u001b[0m\u001b[1;33m\u001b[0m\u001b[1;33m\u001b[0m\u001b[0m\n\u001b[0m\u001b[0;32m      5\u001b[0m \u001b[0msurfaceArea\u001b[0m \u001b[1;33m=\u001b[0m \u001b[0mmeasure\u001b[0m\u001b[1;33m.\u001b[0m\u001b[0mmesh_surface_area\u001b[0m\u001b[1;33m(\u001b[0m\u001b[0mverts\u001b[0m\u001b[1;33m,\u001b[0m \u001b[0mfaces\u001b[0m\u001b[1;33m)\u001b[0m \u001b[1;33m*\u001b[0m \u001b[1;33m(\u001b[0m\u001b[0mspace_conversion\u001b[0m\u001b[1;33m**\u001b[0m\u001b[1;36m2\u001b[0m\u001b[1;33m)\u001b[0m\u001b[1;33m\u001b[0m\u001b[1;33m\u001b[0m\u001b[0m\n\u001b[0;32m      6\u001b[0m \u001b[0mvolume\u001b[0m \u001b[1;33m=\u001b[0m \u001b[0mnp\u001b[0m\u001b[1;33m.\u001b[0m\u001b[0mcount_nonzero\u001b[0m\u001b[1;33m(\u001b[0m\u001b[0mdata\u001b[0m\u001b[1;33m)\u001b[0m \u001b[1;33m*\u001b[0m \u001b[1;33m(\u001b[0m\u001b[0mspace_conversion\u001b[0m\u001b[1;33m**\u001b[0m\u001b[1;36m3\u001b[0m\u001b[1;33m)\u001b[0m\u001b[1;33m\u001b[0m\u001b[1;33m\u001b[0m\u001b[0m\n",
      "\u001b[1;31mNameError\u001b[0m: name 'measure' is not defined"
     ]
    }
   ],
   "source": [
    "# 1 voxel = 0.6 mm\n",
    "space_conversion = 0.62540192926045013e-3\n",
    "\n",
    "verts, faces, _, _ = measure.marching_cubes(data, 0)\n",
    "surfaceArea = measure.mesh_surface_area(verts, faces) * (space_conversion**2)\n",
    "volume = np.count_nonzero(data) * (space_conversion**3)"
   ]
  },
  {
   "cell_type": "code",
   "execution_count": 10,
   "id": "7ce15227-f22f-40a8-a99e-0bf18065cc85",
   "metadata": {},
   "outputs": [
    {
     "data": {
      "text/plain": [
       "72.87791577381722"
      ]
     },
     "execution_count": 10,
     "metadata": {},
     "output_type": "execute_result"
    }
   ],
   "source": [
    "surfaceArea"
   ]
  },
  {
   "cell_type": "code",
   "execution_count": 11,
   "id": "72fcb0fd-e993-4552-a952-d334e297370a",
   "metadata": {},
   "outputs": [
    {
     "data": {
      "text/plain": [
       "0.4774529065279245"
      ]
     },
     "execution_count": 11,
     "metadata": {},
     "output_type": "execute_result"
    }
   ],
   "source": [
    "volume"
   ]
  },
  {
   "cell_type": "code",
   "execution_count": 3,
   "id": "9c756248-2150-4d99-9448-92bbb8dbc268",
   "metadata": {},
   "outputs": [
    {
     "data": {
      "text/plain": [
       "0.001"
      ]
     },
     "execution_count": 3,
     "metadata": {},
     "output_type": "execute_result"
    }
   ],
   "source": [
    "1e-3"
   ]
  },
  {
   "cell_type": "code",
   "execution_count": null,
   "id": "7ee43fe6-c2a6-4e15-8a97-ace79ccdc8a1",
   "metadata": {},
   "outputs": [],
   "source": []
  }
 ],
 "metadata": {
  "kernelspec": {
   "display_name": "Python 3",
   "language": "python",
   "name": "python3"
  },
  "language_info": {
   "codemirror_mode": {
    "name": "ipython",
    "version": 3
   },
   "file_extension": ".py",
   "mimetype": "text/x-python",
   "name": "python",
   "nbconvert_exporter": "python",
   "pygments_lexer": "ipython3",
   "version": "3.9.5"
  }
 },
 "nbformat": 4,
 "nbformat_minor": 5
}
