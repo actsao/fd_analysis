{
 "cells": [
  {
   "cell_type": "code",
   "execution_count": 1,
   "id": "b7c0f5e7-bd6a-4752-bdc0-8720eb39b3ea",
   "metadata": {},
   "outputs": [],
   "source": [
    "import os"
   ]
  },
  {
   "cell_type": "code",
   "execution_count": 4,
   "id": "b36dd8cd-6fb3-4361-924b-24507d8105e0",
   "metadata": {},
   "outputs": [
    {
     "name": "stdout",
     "output_type": "stream",
     "text": [
      "Performing search in:\n",
      "C:\\Users\\andre\\Documents\\GitHub\\sampleNotebook\\FDs_data\n",
      "\n",
      "Compiled 13003 files!\n"
     ]
    }
   ],
   "source": [
    "search_dir = os.path.join(os.getcwd(), 'FDs_data')\n",
    "\n",
    "print(f'Performing search in:\\n{search_dir}\\n')\n",
    "\n",
    "extension = 'csv'\n",
    "\n",
    "csvFile_list = []\n",
    "for root, dirs_list, files_list in os.walk(search_dir):\n",
    "    for file_name in files_list:\n",
    "        if file_name[-3:] == extension and \\\n",
    "        '-checkpoint' not in file_name and \\\n",
    "        'Visual' not in root:\n",
    "            file_name_path = os.path.join(root, file_name)\n",
    "            csvFile_list.append(file_name_path)\n",
    "\n",
    "FS_list = [file for file in csvFile_list if 'FACTOR_SCALE' in file]\n",
    "\n",
    "print(f'Compiled {len(FS_list)} files!')"
   ]
  },
  {
   "cell_type": "code",
   "execution_count": 7,
   "id": "71ce0c01-3f16-40e4-9c0d-14a8e0cfa1a6",
   "metadata": {},
   "outputs": [
    {
     "data": {
      "text/plain": [
       "['FACTOR_0_5_SCALE',\n",
       " 'FACTOR_0_6_SCALE',\n",
       " 'FACTOR_0_7_SCALE',\n",
       " 'FACTOR_0_8_SCALE',\n",
       " 'FACTOR_0_9_SCALE',\n",
       " 'FACTOR_1_0_SCALE',\n",
       " 'FACTOR_1_1_SCALE',\n",
       " 'FACTOR_1_2_SCALE',\n",
       " 'FACTOR_1_3_SCALE',\n",
       " 'FACTOR_1_4_SCALE',\n",
       " 'FACTOR_1_5_SCALE']"
      ]
     },
     "execution_count": 7,
     "metadata": {},
     "output_type": "execute_result"
    }
   ],
   "source": [
    "# Create individual folders for FACTOR_SCALE\n",
    "\n",
    "FS_range = [str(x/10.0).replace('.', '_') for x in range(5, 16)]\n",
    "FS_foldernames = [f'FDs_FACTOR_{FS_x}_SCALE' for FS_x in FS_range]\n",
    "\n",
    "\n",
    "\n",
    "for FS in FS_list:\n",
    "    "
   ]
  },
  {
   "cell_type": "code",
   "execution_count": null,
   "id": "8c026f61-a6ab-4a3f-8e88-7c1ecf57d0a9",
   "metadata": {},
   "outputs": [],
   "source": []
  }
 ],
 "metadata": {
  "kernelspec": {
   "display_name": "Python 3",
   "language": "python",
   "name": "python3"
  },
  "language_info": {
   "codemirror_mode": {
    "name": "ipython",
    "version": 3
   },
   "file_extension": ".py",
   "mimetype": "text/x-python",
   "name": "python",
   "nbconvert_exporter": "python",
   "pygments_lexer": "ipython3",
   "version": "3.9.5"
  }
 },
 "nbformat": 4,
 "nbformat_minor": 5
}
