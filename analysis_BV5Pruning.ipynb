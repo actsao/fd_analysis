{
 "cells": [
  {
   "cell_type": "code",
   "execution_count": 34,
   "id": "399aa1e5-5cc5-4153-903c-ab22a2a8461b",
   "metadata": {},
   "outputs": [],
   "source": [
    "import matplotlib.pyplot as plt\n",
    "%matplotlib inline\n",
    "import numpy as np\n",
    "import pandas as pd\n",
    "import scipy.stats as stats\n",
    "\n",
    "import csv\n",
    "import os"
   ]
  },
  {
   "cell_type": "code",
   "execution_count": 2,
   "id": "d2ed5490-d160-4e09-b819-23299c73370a",
   "metadata": {},
   "outputs": [],
   "source": [
    "filename_info = 'THE_WHEEL_12_31_2019_CHESTFINALSUBJECTS.xls'\n",
    "\n",
    "pt_info = pd.read_excel(filename_info)\n",
    "pt_info['label'] = pt_info['Group_Arb2'].map({0: 'control',\n",
    "                                              1: 'pah',\n",
    "                                              5: 'epah'})\n",
    "pt_info['SID'] = pt_info['SID'].astype(str).str.zfill(3)\n",
    "\n",
    "label_dict = dict(zip(pt_info['SID'].to_list(), pt_info['label'].to_list()))\n",
    "# label_dict"
   ]
  },
  {
   "cell_type": "markdown",
   "id": "e4f1b597-a921-495b-99dc-456ebd3b458f",
   "metadata": {},
   "source": [
    "### Pruned BV5 Data (\"thresholded_results\")\n",
    "\n",
    "FD data are represented as % of BV5 artificially pruned, or thresholded, smallest vessels first."
   ]
  },
  {
   "cell_type": "code",
   "execution_count": 54,
   "id": "446884ae-a9bd-40cd-a0eb-ec9ce3d6f47d",
   "metadata": {},
   "outputs": [
    {
     "name": "stdout",
     "output_type": "stream",
     "text": [
      "Performing search in:\n",
      "C:\\Users\\andre\\Documents\\github\\fd_analysis\\thresholded_results\n",
      "\n",
      "Compiled 273 files!\n"
     ]
    }
   ],
   "source": [
    "# Compile all spreadsheets in relevant folder\n",
    "\n",
    "old_folder = 'thresholded_results'\n",
    "filters_include = ['_fd']\n",
    "filters_exclude = ['-checkpoint', 'Visual']\n",
    "extension = 'csv'\n",
    "\n",
    "search_dir = os.path.join(os.getcwd(), old_folder)\n",
    "\n",
    "print(f'Performing search in:\\n{search_dir}\\n')\n",
    "\n",
    "csvFile_list = []\n",
    "for root, dirs_list, files_list in os.walk(search_dir):\n",
    "    for file_name in files_list:\n",
    "        if file_name[-3:] == extension and \\\n",
    "        all([f in root or f in file_name for f in filters_include]) and \\\n",
    "        not any([f in root or f in file_name for f in filters_exclude]):\n",
    "            file_name_path = os.path.join(root, file_name)\n",
    "            csvFile_list.append(file_name_path)\n",
    "\n",
    "sid_list = pt_info['SID'].to_list()\n",
    "\n",
    "csvFile_list = [csvFile for csvFile in csvFile_list\n",
    "                if any(sid == csvFile.split('\\\\')[-1][:3] for sid in sid_list)]\n",
    "\n",
    "print(f'Compiled {len(csvFile_list)} files!')"
   ]
  },
  {
   "cell_type": "code",
   "execution_count": 16,
   "id": "70eddb31-627d-49d9-9370-bbf3fa860076",
   "metadata": {},
   "outputs": [],
   "source": [
    "# Compile Thresholded Data\n",
    "\n",
    "# lobe_list = ['left', 'right', 'whole']\n",
    "lobe_list = ['whole']\n",
    "# artvein_list = ['']\n",
    "# offset_list = ['']\n",
    "\n",
    "for lobe in lobe_list:\n",
    "    df_list = []\n",
    "    for sid in sid_list:\n",
    "        df_dict = {\n",
    "            'SID':             sid,\n",
    "            'lobe':            lobe,\n",
    "            'label':           label_dict[sid],\n",
    "        }\n",
    "        files_matching = csvFile_list\n",
    "\n",
    "        # Check for sid and lobe matching in file namee\n",
    "        files_matching = [csvFile for csvFile in files_matching\n",
    "                              if sid == csvFile.split('\\\\')[-1][:3] and \\\n",
    "                                 lobe in csvFile.split('\\\\')[-1]]\n",
    "\n",
    "        for f in files_matching:\n",
    "            try:\n",
    "                with open(f) as csv_file:\n",
    "                    csv_reader = csv.reader(csv_file)\n",
    "                    csv_data = list(csv_reader)\n",
    "\n",
    "                folder = f.split('\\\\')[-2]\n",
    "                \n",
    "                arr = np.asarray(csv_data[1:]).astype(float)\n",
    "\n",
    "                for row in arr:\n",
    "                    df_dict[f'{folder}__{int(row[0])}%BV5_FD'] = float(row[1])\n",
    "            except:\n",
    "                print(f'ERROR:\\n{f}\\n')\n",
    "\n",
    "        df_list.append(df_dict)\n",
    "    calculated_features = pd.DataFrame(df_list)\n",
    "    calculated_features.to_csv(f'pruned_FDs.csv', index=False)"
   ]
  },
  {
   "cell_type": "markdown",
   "id": "ce102068-9ee2-4538-a8c5-47d1ff367890",
   "metadata": {},
   "source": [
    "### Statistics"
   ]
  },
  {
   "cell_type": "code",
   "execution_count": 52,
   "id": "d01b28f9-8cec-4e5b-bca2-bf0215538ba2",
   "metadata": {},
   "outputs": [],
   "source": [
    "group = ['control', 'pah']\n",
    "# features = [\n",
    "#     'thresholded_results__0%BV5_FD',\n",
    "#     'thresholded_results__50%BV5_FD',\n",
    "#     'thresholded_results__100%BV5_FD',\n",
    "# ]\n",
    "\n",
    "percent_threshold_values = np.arange(0, 105, 5)\n",
    "features = [f'thresholded_results__{x}%BV5_FD' for x in percent_threshold_values]\n",
    "\n",
    "df_list = []\n",
    "for i, feature in enumerate(features):\n",
    "    X1 = calculated_features[calculated_features['label'].eq(group[0])][feature]\n",
    "    X2 = calculated_features[calculated_features['label'].eq(group[1])][feature]\n",
    "\n",
    "    _, pvalue = stats.mannwhitneyu(X1, X2)\n",
    "    \n",
    "    df_dict = {\n",
    "        '% Pruning':           percent_threshold_values[i],\n",
    "        f'{group[0]}_count':   len(X1),\n",
    "        f'{group[0]}_median':  np.median(X1),\n",
    "        f'{group[1]}_count':   len(X2),\n",
    "        f'{group[1]}_median':  np.median(X2),\n",
    "        'Wilcoxon p value':    pvalue,\n",
    "    }\n",
    "    \n",
    "    df_list.append(df_dict)\n",
    "\n",
    "df_stats = pd.DataFrame(df_list)\n",
    "df_stats.to_csv(f'analysis_BV5Pruning.csv', index=False)"
   ]
  },
  {
   "cell_type": "code",
   "execution_count": 53,
   "id": "dd1bfdaa-6b26-453a-a8dc-0dcea71b54de",
   "metadata": {},
   "outputs": [
    {
     "data": {
      "image/png": "[encoded data removed]",
      "text/plain": [
       "<Figure size 432x288 with 1 Axes>"
      ]
     },
     "metadata": {
      "needs_background": "light"
     },
     "output_type": "display_data"
    }
   ],
   "source": [
    "# plt.plot(percent_threshold_values, df_stats['p value'])\n",
    "plt.plot(percent_threshold_values, df_stats['control_median'])\n",
    "plt.plot(percent_threshold_values, df_stats['pah_median'])\n",
    "\n",
    "plt.title('Control vs PAH (Medians)')\n",
    "plt.xlabel('% BV5 Pruned')\n",
    "plt.ylabel('FD');"
   ]
  },
  {
   "cell_type": "code",
   "execution_count": 46,
   "id": "0b732f51-b15e-4f6d-92d7-4f2af4c5fb5e",
   "metadata": {},
   "outputs": [
    {
     "data": {
      "image/png": "[encoded data removed]",
      "text/plain": [
       "<Figure size 432x288 with 1 Axes>"
      ]
     },
     "metadata": {
      "needs_background": "light"
     },
     "output_type": "display_data"
    }
   ],
   "source": [
    "plt.plot(percent_threshold_values, df_stats['p value'])\n",
    "\n",
    "plt.title('Control vs PAH (Wilcoxon)')\n",
    "plt.xlabel('% BV5 Pruned')\n",
    "plt.ylabel('p value');"
   ]
  },
  {
   "cell_type": "code",
   "execution_count": null,
   "id": "e908aca3-a512-4fe0-97f9-82147e3f2aa3",
   "metadata": {},
   "outputs": [],
   "source": []
  }
 ],
 "metadata": {
  "kernelspec": {
   "display_name": "Python 3",
   "language": "python",
   "name": "python3"
  },
  "language_info": {
   "codemirror_mode": {
    "name": "ipython",
    "version": 3
   },
   "file_extension": ".py",
   "mimetype": "text/x-python",
   "name": "python",
   "nbconvert_exporter": "python",
   "pygments_lexer": "ipython3",
   "version": "3.9.5"
  }
 },
 "nbformat": 4,
 "nbformat_minor": 5
}
