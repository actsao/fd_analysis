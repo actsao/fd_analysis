{
 "cells": [
  {
   "cell_type": "code",
   "execution_count": 113,
   "id": "b7c0f5e7-bd6a-4752-bdc0-8720eb39b3ea",
   "metadata": {},
   "outputs": [],
   "source": [
    "import os\n",
    "import shutil"
   ]
  },
  {
   "cell_type": "code",
   "execution_count": 114,
   "id": "b36dd8cd-6fb3-4361-924b-24507d8105e0",
   "metadata": {},
   "outputs": [
    {
     "name": "stdout",
     "output_type": "stream",
     "text": [
      "Performing search in:\n",
      "C:\\Users\\andre\\Documents\\GitHub\\sampleNotebook\\FDs_data\n",
      "\n",
      "Compiled 14863 files!\n"
     ]
    }
   ],
   "source": [
    "search_dir = os.path.join(os.getcwd(), 'FDs_data')\n",
    "\n",
    "print(f'Performing search in:\\n{search_dir}\\n')\n",
    "\n",
    "extension = 'csv'\n",
    "\n",
    "csvFile_list = []\n",
    "for root, dirs_list, files_list in os.walk(search_dir):\n",
    "    for file_name in files_list:\n",
    "        if file_name[-3:] == extension and \\\n",
    "        '-checkpoint' not in file_name and \\\n",
    "        'Visual' not in root:\n",
    "            file_name_path = os.path.join(root, file_name)\n",
    "            csvFile_list.append(file_name_path)\n",
    "\n",
    "FS_list = [file for file in csvFile_list if 'FACTOR_SCALE' in file]\n",
    "\n",
    "print(f'Compiled {len(FS_list)} files!')"
   ]
  },
  {
   "cell_type": "code",
   "execution_count": 115,
   "id": "71ce0c01-3f16-40e4-9c0d-14a8e0cfa1a6",
   "metadata": {},
   "outputs": [
    {
     "ename": "FileNotFoundError",
     "evalue": "[WinError 3] The system cannot find the path specified: 'FDs_data\\\\TEST\\\\FDs_FACTOR_SCALE_ArtVein\\\\FDs_FACTOR_0_5_SCALE_ArtVein'",
     "output_type": "error",
     "traceback": [
      "\u001b[1;31m---------------------------------------------------------------------------\u001b[0m",
      "\u001b[1;31mFileNotFoundError\u001b[0m                         Traceback (most recent call last)",
      "\u001b[1;32m<ipython-input-115-f292fa233a0a>\u001b[0m in \u001b[0;36m<module>\u001b[1;34m\u001b[0m\n\u001b[0;32m     17\u001b[0m \u001b[1;32mfor\u001b[0m \u001b[0mFS_foldername\u001b[0m \u001b[1;32min\u001b[0m \u001b[0mFS_foldernames\u001b[0m\u001b[1;33m:\u001b[0m\u001b[1;33m\u001b[0m\u001b[1;33m\u001b[0m\u001b[0m\n\u001b[0;32m     18\u001b[0m     \u001b[1;32mif\u001b[0m \u001b[1;32mnot\u001b[0m \u001b[0mos\u001b[0m\u001b[1;33m.\u001b[0m\u001b[0mpath\u001b[0m\u001b[1;33m.\u001b[0m\u001b[0mexists\u001b[0m\u001b[1;33m(\u001b[0m\u001b[0mFS_foldername\u001b[0m\u001b[1;33m)\u001b[0m\u001b[1;33m:\u001b[0m\u001b[1;33m\u001b[0m\u001b[1;33m\u001b[0m\u001b[0m\n\u001b[1;32m---> 19\u001b[1;33m         \u001b[0mos\u001b[0m\u001b[1;33m.\u001b[0m\u001b[0mmkdir\u001b[0m\u001b[1;33m(\u001b[0m\u001b[0mFS_foldername\u001b[0m\u001b[1;33m)\u001b[0m\u001b[1;33m\u001b[0m\u001b[1;33m\u001b[0m\u001b[0m\n\u001b[0m\u001b[0;32m     20\u001b[0m \u001b[1;33m\u001b[0m\u001b[0m\n\u001b[0;32m     21\u001b[0m \u001b[0mFS_list\u001b[0m \u001b[1;33m=\u001b[0m \u001b[1;33m[\u001b[0m\u001b[0mfile\u001b[0m \u001b[1;32mfor\u001b[0m \u001b[0mfile\u001b[0m \u001b[1;32min\u001b[0m \u001b[0mcsvFile_list\u001b[0m \u001b[1;32mif\u001b[0m \u001b[0msrc_folder\u001b[0m\u001b[1;33m.\u001b[0m\u001b[0msplit\u001b[0m\u001b[1;33m(\u001b[0m\u001b[0mos\u001b[0m\u001b[1;33m.\u001b[0m\u001b[0msep\u001b[0m\u001b[1;33m)\u001b[0m\u001b[1;33m[\u001b[0m\u001b[1;33m-\u001b[0m\u001b[1;36m1\u001b[0m\u001b[1;33m]\u001b[0m \u001b[1;32min\u001b[0m \u001b[0mfile\u001b[0m\u001b[1;33m]\u001b[0m\u001b[1;33m\u001b[0m\u001b[1;33m\u001b[0m\u001b[0m\n",
      "\u001b[1;31mFileNotFoundError\u001b[0m: [WinError 3] The system cannot find the path specified: 'FDs_data\\\\TEST\\\\FDs_FACTOR_SCALE_ArtVein\\\\FDs_FACTOR_0_5_SCALE_ArtVein'"
     ]
    }
   ],
   "source": [
    "# Create individual folders for FACTOR_SCALE folders\n",
    "# Moves files in FACTOR_SCALE folder to FACTOR_X_SCALE folders\n",
    "# Note! Only sorts one folder at a time\n",
    "\n",
    "# Folder to be sorted\n",
    "# FDs_FACTOR_SCALE\n",
    "# FDs_FACTOR_SCALE_20SizeBy1\n",
    "# FDs_FACTOR_SCALE_ArtVein\n",
    "# FDs_FACTOR_SCALE_20SizeBy1_ArtVein\n",
    "src_folder = os.path.join('FDs_data', 'FDs_FACTOR_SCALE_ArtVein')\n",
    "\n",
    "# Create new folders based on src_folder\n",
    "FS_range = [str(x/10.0).replace('.', '_') + '_' for x in range(5, 16)]\n",
    "basename = os.path.basename(src_folder)\n",
    "insert_loc = basename.index('SCALE')\n",
    "FS_foldernames = [os.path.join(os.path.dirname(src_folder), basename, basename[:insert_loc] + FS_x + basename[insert_loc:]) for FS_x in FS_range]\n",
    "for FS_foldername in FS_foldernames:\n",
    "    if not os.path.exists(FS_foldername):\n",
    "        os.mkdir(FS_foldername)\n",
    "\n",
    "FS_list = [file for file in csvFile_list if src_folder.split(os.sep)[-1] in file]\n",
    "\n",
    "skipped = 0\n",
    "moved = 0\n",
    "for FS in FS_list:\n",
    "    # Check that file exists (may already be moved)\n",
    "    if not os.path.exists(FS):\n",
    "        skipped += 1\n",
    "        continue\n",
    "    FS_foldername = FS_foldernames[[i for i, FS_x in enumerate(FS_range) if FS_x in FS][0]]\n",
    "    shutil.move(FS, os.path.join(FS_foldername, os.path.basename(FS)))\n",
    "    \n",
    "    moved += 1\n",
    "\n",
    "print(f'Skipped {skipped} files!')\n",
    "print(f'Moved {moved} files!')"
   ]
  },
  {
   "cell_type": "code",
   "execution_count": null,
   "id": "03bf25ce-2469-4e41-87be-be4b3f65b1f7",
   "metadata": {},
   "outputs": [],
   "source": []
  }
 ],
 "metadata": {
  "kernelspec": {
   "display_name": "Python 3",
   "language": "python",
   "name": "python3"
  },
  "language_info": {
   "codemirror_mode": {
    "name": "ipython",
    "version": 3
   },
   "file_extension": ".py",
   "mimetype": "text/x-python",
   "name": "python",
   "nbconvert_exporter": "python",
   "pygments_lexer": "ipython3",
   "version": "3.9.5"
  }
 },
 "nbformat": 4,
 "nbformat_minor": 5
}
