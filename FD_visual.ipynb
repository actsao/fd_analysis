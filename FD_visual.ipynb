{
 "cells": [
  {
   "cell_type": "code",
   "execution_count": 1,
   "id": "d76cc51a-f155-4d93-816f-b4af1f27d782",
   "metadata": {},
   "outputs": [],
   "source": [
    "import matplotlib.pyplot as plt\n",
    "import matplotlib.table as tbl\n",
    "import math\n",
    "import numpy as np\n",
    "import pandas as pd\n",
    "\n",
    "import csv\n",
    "import os"
   ]
  },
  {
   "cell_type": "code",
   "execution_count": 14,
   "id": "3cea501f-1d93-4d2e-8efc-66496bfdaf51",
   "metadata": {},
   "outputs": [
    {
     "data": {
      "text/html": [
       "<div>\n",
       "<style scoped>\n",
       "    .dataframe tbody tr th:only-of-type {\n",
       "        vertical-align: middle;\n",
       "    }\n",
       "\n",
       "    .dataframe tbody tr th {\n",
       "        vertical-align: top;\n",
       "    }\n",
       "\n",
       "    .dataframe thead th {\n",
       "        text-align: right;\n",
       "    }\n",
       "</style>\n",
       "<table border=\"1\" class=\"dataframe\">\n",
       "  <thead>\n",
       "    <tr style=\"text-align: right;\">\n",
       "      <th></th>\n",
       "      <th>SID</th>\n",
       "      <th>Lobe</th>\n",
       "      <th>Artery_Or_Vein</th>\n",
       "      <th>Fractal_Dimension</th>\n",
       "      <th>Coefficients</th>\n",
       "      <th>Sizes</th>\n",
       "      <th>Counts</th>\n",
       "    </tr>\n",
       "  </thead>\n",
       "  <tbody>\n",
       "    <tr>\n",
       "      <th>0</th>\n",
       "      <td>001_pect_phfirst_060413</td>\n",
       "      <td>left</td>\n",
       "      <td>artery</td>\n",
       "      <td>2.231987</td>\n",
       "      <td>[-2.2319865978493074, 13.440263922686256]</td>\n",
       "      <td>[128, 126, 124, 122, 120, 118, 116, 114, 112, ...</td>\n",
       "      <td>[14, 15, 16, 16, 16, 16, 17, 18, 18, 19, 19, 1...</td>\n",
       "    </tr>\n",
       "    <tr>\n",
       "      <th>1</th>\n",
       "      <td>001_pect_phfirst_060413</td>\n",
       "      <td>left</td>\n",
       "      <td>vein</td>\n",
       "      <td>2.095551</td>\n",
       "      <td>[-2.095550950408798, 12.764658612032182]</td>\n",
       "      <td>[128, 126, 124, 122, 120, 118, 116, 114, 112, ...</td>\n",
       "      <td>[12, 15, 15, 15, 15, 16, 16, 17, 17, 18, 19, 1...</td>\n",
       "    </tr>\n",
       "    <tr>\n",
       "      <th>2</th>\n",
       "      <td>001_pect_phfirst_060413</td>\n",
       "      <td>right</td>\n",
       "      <td>artery</td>\n",
       "      <td>2.312277</td>\n",
       "      <td>[-2.3122773875946674, 13.988582637813723]</td>\n",
       "      <td>[128, 126, 124, 122, 120, 118, 116, 114, 112, ...</td>\n",
       "      <td>[15, 17, 17, 18, 19, 19, 21, 22, 22, 23, 23, 2...</td>\n",
       "    </tr>\n",
       "    <tr>\n",
       "      <th>3</th>\n",
       "      <td>001_pect_phfirst_060413</td>\n",
       "      <td>right</td>\n",
       "      <td>vein</td>\n",
       "      <td>2.232392</td>\n",
       "      <td>[-2.232392025913537, 13.610549919243388]</td>\n",
       "      <td>[128, 126, 124, 122, 120, 118, 116, 114, 112, ...</td>\n",
       "      <td>[16, 16, 16, 16, 17, 18, 21, 22, 22, 22, 23, 2...</td>\n",
       "    </tr>\n",
       "    <tr>\n",
       "      <th>4</th>\n",
       "      <td>001_pect_phfirst_060413</td>\n",
       "      <td>whole</td>\n",
       "      <td>artery</td>\n",
       "      <td>2.287625</td>\n",
       "      <td>[-2.2876254067660975, 14.480470167928814]</td>\n",
       "      <td>[256, 254, 252, 250, 248, 246, 244, 242, 240, ...</td>\n",
       "      <td>[6, 6, 6, 6, 6, 6, 6, 6, 7, 7, 8, 8, 8, 8, 8, ...</td>\n",
       "    </tr>\n",
       "    <tr>\n",
       "      <th>...</th>\n",
       "      <td>...</td>\n",
       "      <td>...</td>\n",
       "      <td>...</td>\n",
       "      <td>...</td>\n",
       "      <td>...</td>\n",
       "      <td>...</td>\n",
       "      <td>...</td>\n",
       "    </tr>\n",
       "    <tr>\n",
       "      <th>1334</th>\n",
       "      <td>388_pect_phfirst_080516</td>\n",
       "      <td>left</td>\n",
       "      <td>vein</td>\n",
       "      <td>1.877505</td>\n",
       "      <td>[-1.8775051049022642, 10.78535586969974]</td>\n",
       "      <td>[64, 62, 60, 58, 56, 54, 52, 50, 48, 46, 44, 4...</td>\n",
       "      <td>[18, 17, 19, 21, 24, 28, 30, 31, 33, 37, 40, 4...</td>\n",
       "    </tr>\n",
       "    <tr>\n",
       "      <th>1335</th>\n",
       "      <td>388_pect_phfirst_080516</td>\n",
       "      <td>right</td>\n",
       "      <td>artery</td>\n",
       "      <td>2.218190</td>\n",
       "      <td>[-2.218190264799441, 12.497135117232267]</td>\n",
       "      <td>[128, 126, 124, 122, 120, 118, 116, 114, 112, ...</td>\n",
       "      <td>[7, 7, 8, 8, 8, 8, 8, 8, 8, 8, 8, 8, 8, 8, 8, ...</td>\n",
       "    </tr>\n",
       "    <tr>\n",
       "      <th>1336</th>\n",
       "      <td>388_pect_phfirst_080516</td>\n",
       "      <td>right</td>\n",
       "      <td>vein</td>\n",
       "      <td>1.966614</td>\n",
       "      <td>[-1.9666140863186612, 11.298840952652423]</td>\n",
       "      <td>[64, 62, 60, 58, 56, 54, 52, 50, 48, 46, 44, 4...</td>\n",
       "      <td>[19, 19, 21, 25, 27, 32, 33, 35, 41, 43, 49, 5...</td>\n",
       "    </tr>\n",
       "    <tr>\n",
       "      <th>1337</th>\n",
       "      <td>388_pect_phfirst_080516</td>\n",
       "      <td>whole</td>\n",
       "      <td>artery</td>\n",
       "      <td>2.203114</td>\n",
       "      <td>[-2.2031140566334293, 13.077375463635066]</td>\n",
       "      <td>[128, 126, 124, 122, 120, 118, 116, 114, 112, ...</td>\n",
       "      <td>[12, 12, 12, 12, 12, 12, 12, 12, 12, 12, 14, 1...</td>\n",
       "    </tr>\n",
       "    <tr>\n",
       "      <th>1338</th>\n",
       "      <td>388_pect_phfirst_080516</td>\n",
       "      <td>whole</td>\n",
       "      <td>vein</td>\n",
       "      <td>1.976915</td>\n",
       "      <td>[-1.9769145175619203, 11.91841603409862]</td>\n",
       "      <td>[128, 126, 124, 122, 120, 118, 116, 114, 112, ...</td>\n",
       "      <td>[9, 9, 11, 11, 12, 12, 12, 12, 12, 12, 12, 12,...</td>\n",
       "    </tr>\n",
       "  </tbody>\n",
       "</table>\n",
       "<p>1339 rows × 7 columns</p>\n",
       "</div>"
      ],
      "text/plain": [
       "                          SID   Lobe Artery_Or_Vein  Fractal_Dimension  \\\n",
       "0     001_pect_phfirst_060413   left         artery           2.231987   \n",
       "1     001_pect_phfirst_060413   left           vein           2.095551   \n",
       "2     001_pect_phfirst_060413  right         artery           2.312277   \n",
       "3     001_pect_phfirst_060413  right           vein           2.232392   \n",
       "4     001_pect_phfirst_060413  whole         artery           2.287625   \n",
       "...                       ...    ...            ...                ...   \n",
       "1334  388_pect_phfirst_080516   left           vein           1.877505   \n",
       "1335  388_pect_phfirst_080516  right         artery           2.218190   \n",
       "1336  388_pect_phfirst_080516  right           vein           1.966614   \n",
       "1337  388_pect_phfirst_080516  whole         artery           2.203114   \n",
       "1338  388_pect_phfirst_080516  whole           vein           1.976915   \n",
       "\n",
       "                                   Coefficients  \\\n",
       "0     [-2.2319865978493074, 13.440263922686256]   \n",
       "1      [-2.095550950408798, 12.764658612032182]   \n",
       "2     [-2.3122773875946674, 13.988582637813723]   \n",
       "3      [-2.232392025913537, 13.610549919243388]   \n",
       "4     [-2.2876254067660975, 14.480470167928814]   \n",
       "...                                         ...   \n",
       "1334   [-1.8775051049022642, 10.78535586969974]   \n",
       "1335   [-2.218190264799441, 12.497135117232267]   \n",
       "1336  [-1.9666140863186612, 11.298840952652423]   \n",
       "1337  [-2.2031140566334293, 13.077375463635066]   \n",
       "1338   [-1.9769145175619203, 11.91841603409862]   \n",
       "\n",
       "                                                  Sizes  \\\n",
       "0     [128, 126, 124, 122, 120, 118, 116, 114, 112, ...   \n",
       "1     [128, 126, 124, 122, 120, 118, 116, 114, 112, ...   \n",
       "2     [128, 126, 124, 122, 120, 118, 116, 114, 112, ...   \n",
       "3     [128, 126, 124, 122, 120, 118, 116, 114, 112, ...   \n",
       "4     [256, 254, 252, 250, 248, 246, 244, 242, 240, ...   \n",
       "...                                                 ...   \n",
       "1334  [64, 62, 60, 58, 56, 54, 52, 50, 48, 46, 44, 4...   \n",
       "1335  [128, 126, 124, 122, 120, 118, 116, 114, 112, ...   \n",
       "1336  [64, 62, 60, 58, 56, 54, 52, 50, 48, 46, 44, 4...   \n",
       "1337  [128, 126, 124, 122, 120, 118, 116, 114, 112, ...   \n",
       "1338  [128, 126, 124, 122, 120, 118, 116, 114, 112, ...   \n",
       "\n",
       "                                                 Counts  \n",
       "0     [14, 15, 16, 16, 16, 16, 17, 18, 18, 19, 19, 1...  \n",
       "1     [12, 15, 15, 15, 15, 16, 16, 17, 17, 18, 19, 1...  \n",
       "2     [15, 17, 17, 18, 19, 19, 21, 22, 22, 23, 23, 2...  \n",
       "3     [16, 16, 16, 16, 17, 18, 21, 22, 22, 22, 23, 2...  \n",
       "4     [6, 6, 6, 6, 6, 6, 6, 6, 7, 7, 8, 8, 8, 8, 8, ...  \n",
       "...                                                 ...  \n",
       "1334  [18, 17, 19, 21, 24, 28, 30, 31, 33, 37, 40, 4...  \n",
       "1335  [7, 7, 8, 8, 8, 8, 8, 8, 8, 8, 8, 8, 8, 8, 8, ...  \n",
       "1336  [19, 19, 21, 25, 27, 32, 33, 35, 41, 43, 49, 5...  \n",
       "1337  [12, 12, 12, 12, 12, 12, 12, 12, 12, 12, 14, 1...  \n",
       "1338  [9, 9, 11, 11, 12, 12, 12, 12, 12, 12, 12, 12,...  \n",
       "\n",
       "[1339 rows x 7 columns]"
      ]
     },
     "metadata": {},
     "output_type": "display_data"
    }
   ],
   "source": [
    "# Load data\n",
    "\n",
    "# Expects all relevant files to be in this folder\n",
    "folder = 'FDs_ManySize_ArtVein'\n",
    "files = [f for f in os.listdir(folder) if 'Lung' in f]\n",
    "\n",
    "df_list = []\n",
    "for f in files:\n",
    "    df_dict = {}\n",
    "    with open(os.path.join(folder, f), 'r') as csv_file:\n",
    "        csv_reader = csv.reader(csv_file)\n",
    "        csv_data = list(csv_reader)\n",
    "    \n",
    "    sc_arr = np.asarray(csv_data[4:]).astype(int)\n",
    "    sizes, counts = sc_arr[:, 0], sc_arr[:, 1]\n",
    "    \n",
    "    df_dict = {\n",
    "        'SID':                 '_'.join(f.split('_')[:-2]),\n",
    "        'Lobe':                '',\n",
    "        'Artery_Or_Vein':      '',\n",
    "        'Fractal_Dimension':   float(csv_data[0][1]),\n",
    "        'Coefficients':        np.array([csv_data[1][1], csv_data[2][1]]).astype(float),\n",
    "        'Sizes':               sizes,\n",
    "        'Counts':              counts,\n",
    "    }\n",
    "    \n",
    "    f = f.lower()\n",
    "    if 'left' in f:\n",
    "        df_dict['Lobe'] = 'left'\n",
    "    elif 'right' in f:\n",
    "        df_dict['Lobe'] = 'right'\n",
    "    elif 'whole' in f:\n",
    "        df_dict['Lobe'] = 'whole'\n",
    "    \n",
    "    if 'artery' in f:\n",
    "        df_dict['Artery_Or_Vein'] = 'artery'\n",
    "    elif 'vein' in f:\n",
    "        df_dict['Artery_Or_Vein'] = 'vein'\n",
    "    \n",
    "    df_list.append(df_dict)\n",
    "\n",
    "df = pd.DataFrame(df_list)\n",
    "display(df)"
   ]
  },
  {
   "cell_type": "code",
   "execution_count": 15,
   "id": "6ffc1589-5c54-4e05-8620-56f71a093b15",
   "metadata": {},
   "outputs": [
    {
     "data": {
      "text/html": [
       "<div>\n",
       "<style scoped>\n",
       "    .dataframe tbody tr th:only-of-type {\n",
       "        vertical-align: middle;\n",
       "    }\n",
       "\n",
       "    .dataframe tbody tr th {\n",
       "        vertical-align: top;\n",
       "    }\n",
       "\n",
       "    .dataframe thead th {\n",
       "        text-align: right;\n",
       "    }\n",
       "</style>\n",
       "<table border=\"1\" class=\"dataframe\">\n",
       "  <thead>\n",
       "    <tr style=\"text-align: right;\">\n",
       "      <th></th>\n",
       "      <th>SID</th>\n",
       "      <th>Lobe</th>\n",
       "      <th>Artery_Or_Vein</th>\n",
       "      <th>Fractal_Dimension</th>\n",
       "      <th>Coefficients</th>\n",
       "      <th>Sizes</th>\n",
       "      <th>Counts</th>\n",
       "      <th>R_Squared</th>\n",
       "      <th>Residuals</th>\n",
       "      <th>Pairwise_Slopes</th>\n",
       "    </tr>\n",
       "  </thead>\n",
       "  <tbody>\n",
       "    <tr>\n",
       "      <th>0</th>\n",
       "      <td>001_pect_phfirst_060413</td>\n",
       "      <td>left</td>\n",
       "      <td>artery</td>\n",
       "      <td>2.231987</td>\n",
       "      <td>[-2.2319865978493074, 13.440263922686256]</td>\n",
       "      <td>[128, 126, 124, 122, 120, 118, 116, 114, 112, ...</td>\n",
       "      <td>[14, 15, 16, 16, 16, 16, 17, 18, 18, 19, 19, 1...</td>\n",
       "      <td>0.998990</td>\n",
       "      <td>[0.028459928356825426, 0.06230267815274315, 0....</td>\n",
       "      <td>[-4.380956796098391, -4.033571518268074, -0.0,...</td>\n",
       "    </tr>\n",
       "    <tr>\n",
       "      <th>1</th>\n",
       "      <td>001_pect_phfirst_060413</td>\n",
       "      <td>left</td>\n",
       "      <td>vein</td>\n",
       "      <td>2.095551</td>\n",
       "      <td>[-2.095550950408798, 12.764658612032182]</td>\n",
       "      <td>[128, 126, 124, 122, 120, 118, 116, 114, 112, ...</td>\n",
       "      <td>[12, 15, 15, 15, 15, 16, 16, 17, 17, 18, 19, 1...</td>\n",
       "      <td>0.997644</td>\n",
       "      <td>[-0.11207533127517655, 0.07806673562707145, 0....</td>\n",
       "      <td>[-14.169322664304575, -0.0, -0.0, -0.0, -3.839...</td>\n",
       "    </tr>\n",
       "    <tr>\n",
       "      <th>2</th>\n",
       "      <td>001_pect_phfirst_060413</td>\n",
       "      <td>right</td>\n",
       "      <td>artery</td>\n",
       "      <td>2.312277</td>\n",
       "      <td>[-2.3122773875946674, 13.988582637813723]</td>\n",
       "      <td>[128, 126, 124, 122, 120, 118, 116, 114, 112, ...</td>\n",
       "      <td>[15, 17, 17, 18, 19, 19, 21, 22, 22, 23, 23, 2...</td>\n",
       "      <td>0.998580</td>\n",
       "      <td>[-0.06129257352519568, 0.027455999719612656, -...</td>\n",
       "      <td>[-7.947695318770602, -0.0, -3.515164999366361,...</td>\n",
       "    </tr>\n",
       "    <tr>\n",
       "      <th>3</th>\n",
       "      <td>001_pect_phfirst_060413</td>\n",
       "      <td>right</td>\n",
       "      <td>vein</td>\n",
       "      <td>2.232392</td>\n",
       "      <td>[-2.232392025913537, 13.610549919243388]</td>\n",
       "      <td>[128, 126, 124, 122, 120, 118, 116, 114, 112, ...</td>\n",
       "      <td>[16, 16, 16, 16, 17, 18, 21, 22, 22, 22, 23, 2...</td>\n",
       "      <td>0.998002</td>\n",
       "      <td>[-0.006327526338300249, -0.04148403285521285, ...</td>\n",
       "      <td>[-0.0, -0.0, -0.0, -3.667706113384519, -3.4008...</td>\n",
       "    </tr>\n",
       "    <tr>\n",
       "      <th>4</th>\n",
       "      <td>001_pect_phfirst_060413</td>\n",
       "      <td>whole</td>\n",
       "      <td>artery</td>\n",
       "      <td>2.287625</td>\n",
       "      <td>[-2.2876254067660975, 14.480470167928814]</td>\n",
       "      <td>[256, 254, 252, 250, 248, 246, 244, 242, 240, ...</td>\n",
       "      <td>[6, 6, 6, 6, 6, 6, 6, 6, 7, 7, 8, 8, 8, 8, 8, ...</td>\n",
       "      <td>0.998652</td>\n",
       "      <td>[-0.0034218916830108803, -0.02136414371262907,...</td>\n",
       "      <td>[-0.0, -0.0, -0.0, -0.0, -0.0, -0.0, -0.0, -18...</td>\n",
       "    </tr>\n",
       "    <tr>\n",
       "      <th>...</th>\n",
       "      <td>...</td>\n",
       "      <td>...</td>\n",
       "      <td>...</td>\n",
       "      <td>...</td>\n",
       "      <td>...</td>\n",
       "      <td>...</td>\n",
       "      <td>...</td>\n",
       "      <td>...</td>\n",
       "      <td>...</td>\n",
       "      <td>...</td>\n",
       "    </tr>\n",
       "    <tr>\n",
       "      <th>1334</th>\n",
       "      <td>388_pect_phfirst_080516</td>\n",
       "      <td>left</td>\n",
       "      <td>vein</td>\n",
       "      <td>1.877505</td>\n",
       "      <td>[-1.8775051049022642, 10.78535586969974]</td>\n",
       "      <td>[64, 62, 60, 58, 56, 54, 52, 50, 48, 46, 44, 4...</td>\n",
       "      <td>[18, 17, 19, 21, 24, 28, 30, 31, 33, 37, 40, 4...</td>\n",
       "      <td>0.997673</td>\n",
       "      <td>[-0.08665989210412395, -0.20342664910369823, -...</td>\n",
       "      <td>[1.800338813062447, -3.392077953902086, -2.952...</td>\n",
       "    </tr>\n",
       "    <tr>\n",
       "      <th>1335</th>\n",
       "      <td>388_pect_phfirst_080516</td>\n",
       "      <td>right</td>\n",
       "      <td>artery</td>\n",
       "      <td>2.218190</td>\n",
       "      <td>[-2.218190264799441, 12.497135117232267]</td>\n",
       "      <td>[128, 126, 124, 122, 120, 118, 116, 114, 112, ...</td>\n",
       "      <td>[7, 7, 8, 8, 8, 8, 8, 8, 8, 8, 8, 8, 8, 8, 8, ...</td>\n",
       "      <td>0.996846</td>\n",
       "      <td>[0.21150132776180341, 0.17656847564849065, 0.2...</td>\n",
       "      <td>[-0.0, -8.345533994137261, -0.0, -0.0, -0.0, -...</td>\n",
       "    </tr>\n",
       "    <tr>\n",
       "      <th>1336</th>\n",
       "      <td>388_pect_phfirst_080516</td>\n",
       "      <td>right</td>\n",
       "      <td>vein</td>\n",
       "      <td>1.966614</td>\n",
       "      <td>[-1.9666140863186612, 11.298840952652423]</td>\n",
       "      <td>[64, 62, 60, 58, 56, 54, 52, 50, 48, 46, 44, 4...</td>\n",
       "      <td>[19, 19, 21, 25, 27, 32, 33, 35, 41, 43, 49, 5...</td>\n",
       "      <td>0.996097</td>\n",
       "      <td>[-0.17548391839846644, -0.23792135572620055, -...</td>\n",
       "      <td>[-0.0, -3.0522720143155877, -5.142932359342327...</td>\n",
       "    </tr>\n",
       "    <tr>\n",
       "      <th>1337</th>\n",
       "      <td>388_pect_phfirst_080516</td>\n",
       "      <td>whole</td>\n",
       "      <td>artery</td>\n",
       "      <td>2.203114</td>\n",
       "      <td>[-2.2031140566334293, 13.077375463635066]</td>\n",
       "      <td>[128, 126, 124, 122, 120, 118, 116, 114, 112, ...</td>\n",
       "      <td>[12, 12, 12, 12, 12, 12, 12, 12, 12, 12, 14, 1...</td>\n",
       "      <td>0.998587</td>\n",
       "      <td>[0.09710726380505053, 0.062411837199662035, 0....</td>\n",
       "      <td>[-0.0, -0.0, -0.0, -0.0, -0.0, -0.0, -0.0, -0....</td>\n",
       "    </tr>\n",
       "    <tr>\n",
       "      <th>1338</th>\n",
       "      <td>388_pect_phfirst_080516</td>\n",
       "      <td>whole</td>\n",
       "      <td>vein</td>\n",
       "      <td>1.976915</td>\n",
       "      <td>[-1.9769145175619203, 11.91841603409862]</td>\n",
       "      <td>[128, 126, 124, 122, 120, 118, 116, 114, 112, ...</td>\n",
       "      <td>[9, 9, 11, 11, 12, 12, 12, 12, 12, 12, 12, 12,...</td>\n",
       "      <td>0.996577</td>\n",
       "      <td>[-0.12914238836991432, -0.1602755438879755, 0....</td>\n",
       "      <td>[-0.0, -12.541650900890813, -0.0, -5.264068455...</td>\n",
       "    </tr>\n",
       "  </tbody>\n",
       "</table>\n",
       "<p>1339 rows × 10 columns</p>\n",
       "</div>"
      ],
      "text/plain": [
       "                          SID   Lobe Artery_Or_Vein  Fractal_Dimension  \\\n",
       "0     001_pect_phfirst_060413   left         artery           2.231987   \n",
       "1     001_pect_phfirst_060413   left           vein           2.095551   \n",
       "2     001_pect_phfirst_060413  right         artery           2.312277   \n",
       "3     001_pect_phfirst_060413  right           vein           2.232392   \n",
       "4     001_pect_phfirst_060413  whole         artery           2.287625   \n",
       "...                       ...    ...            ...                ...   \n",
       "1334  388_pect_phfirst_080516   left           vein           1.877505   \n",
       "1335  388_pect_phfirst_080516  right         artery           2.218190   \n",
       "1336  388_pect_phfirst_080516  right           vein           1.966614   \n",
       "1337  388_pect_phfirst_080516  whole         artery           2.203114   \n",
       "1338  388_pect_phfirst_080516  whole           vein           1.976915   \n",
       "\n",
       "                                   Coefficients  \\\n",
       "0     [-2.2319865978493074, 13.440263922686256]   \n",
       "1      [-2.095550950408798, 12.764658612032182]   \n",
       "2     [-2.3122773875946674, 13.988582637813723]   \n",
       "3      [-2.232392025913537, 13.610549919243388]   \n",
       "4     [-2.2876254067660975, 14.480470167928814]   \n",
       "...                                         ...   \n",
       "1334   [-1.8775051049022642, 10.78535586969974]   \n",
       "1335   [-2.218190264799441, 12.497135117232267]   \n",
       "1336  [-1.9666140863186612, 11.298840952652423]   \n",
       "1337  [-2.2031140566334293, 13.077375463635066]   \n",
       "1338   [-1.9769145175619203, 11.91841603409862]   \n",
       "\n",
       "                                                  Sizes  \\\n",
       "0     [128, 126, 124, 122, 120, 118, 116, 114, 112, ...   \n",
       "1     [128, 126, 124, 122, 120, 118, 116, 114, 112, ...   \n",
       "2     [128, 126, 124, 122, 120, 118, 116, 114, 112, ...   \n",
       "3     [128, 126, 124, 122, 120, 118, 116, 114, 112, ...   \n",
       "4     [256, 254, 252, 250, 248, 246, 244, 242, 240, ...   \n",
       "...                                                 ...   \n",
       "1334  [64, 62, 60, 58, 56, 54, 52, 50, 48, 46, 44, 4...   \n",
       "1335  [128, 126, 124, 122, 120, 118, 116, 114, 112, ...   \n",
       "1336  [64, 62, 60, 58, 56, 54, 52, 50, 48, 46, 44, 4...   \n",
       "1337  [128, 126, 124, 122, 120, 118, 116, 114, 112, ...   \n",
       "1338  [128, 126, 124, 122, 120, 118, 116, 114, 112, ...   \n",
       "\n",
       "                                                 Counts  R_Squared  \\\n",
       "0     [14, 15, 16, 16, 16, 16, 17, 18, 18, 19, 19, 1...   0.998990   \n",
       "1     [12, 15, 15, 15, 15, 16, 16, 17, 17, 18, 19, 1...   0.997644   \n",
       "2     [15, 17, 17, 18, 19, 19, 21, 22, 22, 23, 23, 2...   0.998580   \n",
       "3     [16, 16, 16, 16, 17, 18, 21, 22, 22, 22, 23, 2...   0.998002   \n",
       "4     [6, 6, 6, 6, 6, 6, 6, 6, 7, 7, 8, 8, 8, 8, 8, ...   0.998652   \n",
       "...                                                 ...        ...   \n",
       "1334  [18, 17, 19, 21, 24, 28, 30, 31, 33, 37, 40, 4...   0.997673   \n",
       "1335  [7, 7, 8, 8, 8, 8, 8, 8, 8, 8, 8, 8, 8, 8, 8, ...   0.996846   \n",
       "1336  [19, 19, 21, 25, 27, 32, 33, 35, 41, 43, 49, 5...   0.996097   \n",
       "1337  [12, 12, 12, 12, 12, 12, 12, 12, 12, 12, 14, 1...   0.998587   \n",
       "1338  [9, 9, 11, 11, 12, 12, 12, 12, 12, 12, 12, 12,...   0.996577   \n",
       "\n",
       "                                              Residuals  \\\n",
       "0     [0.028459928356825426, 0.06230267815274315, 0....   \n",
       "1     [-0.11207533127517655, 0.07806673562707145, 0....   \n",
       "2     [-0.06129257352519568, 0.027455999719612656, -...   \n",
       "3     [-0.006327526338300249, -0.04148403285521285, ...   \n",
       "4     [-0.0034218916830108803, -0.02136414371262907,...   \n",
       "...                                                 ...   \n",
       "1334  [-0.08665989210412395, -0.20342664910369823, -...   \n",
       "1335  [0.21150132776180341, 0.17656847564849065, 0.2...   \n",
       "1336  [-0.17548391839846644, -0.23792135572620055, -...   \n",
       "1337  [0.09710726380505053, 0.062411837199662035, 0....   \n",
       "1338  [-0.12914238836991432, -0.1602755438879755, 0....   \n",
       "\n",
       "                                        Pairwise_Slopes  \n",
       "0     [-4.380956796098391, -4.033571518268074, -0.0,...  \n",
       "1     [-14.169322664304575, -0.0, -0.0, -0.0, -3.839...  \n",
       "2     [-7.947695318770602, -0.0, -3.515164999366361,...  \n",
       "3     [-0.0, -0.0, -0.0, -3.667706113384519, -3.4008...  \n",
       "4     [-0.0, -0.0, -0.0, -0.0, -0.0, -0.0, -0.0, -18...  \n",
       "...                                                 ...  \n",
       "1334  [1.800338813062447, -3.392077953902086, -2.952...  \n",
       "1335  [-0.0, -8.345533994137261, -0.0, -0.0, -0.0, -...  \n",
       "1336  [-0.0, -3.0522720143155877, -5.142932359342327...  \n",
       "1337  [-0.0, -0.0, -0.0, -0.0, -0.0, -0.0, -0.0, -0....  \n",
       "1338  [-0.0, -12.541650900890813, -0.0, -5.264068455...  \n",
       "\n",
       "[1339 rows x 10 columns]"
      ]
     },
     "execution_count": 15,
     "metadata": {},
     "output_type": "execute_result"
    }
   ],
   "source": [
    "# Generate Stats!\n",
    "\n",
    "r_squared_list = []\n",
    "residuals_list = []\n",
    "pairwise_slopes_list = []\n",
    "for index, row in df.iterrows():\n",
    "    sizes_log = np.log(row['Sizes'])\n",
    "    counts_log = np.log(row['Counts'])\n",
    "    coeffs = row['Coefficients']\n",
    "    \n",
    "    # Calculate R Squared\n",
    "    correlation_matrix = np.corrcoef(sizes_log, counts_log)\n",
    "    r_squared = correlation_matrix[0, 1]**2\n",
    "    r_squared_list.append(r_squared)\n",
    "    \n",
    "    # Calculate Residuals\n",
    "    residuals = counts_log - np.polyval(coeffs, sizes_log)\n",
    "    residuals_list.append(residuals)\n",
    "    \n",
    "    # Calculate Pairwise Slopes\n",
    "    pairwise_slopes = (counts_log[1:] - counts_log[:-1]) / (sizes_log[1:] - sizes_log[:-1])\n",
    "    pairwise_slopes_list.append(pairwise_slopes)\n",
    "\n",
    "df['R_Squared'] = r_squared_list\n",
    "df['Residuals'] = residuals_list\n",
    "df['Pairwise_Slopes'] = pairwise_slopes_list\n",
    "\n",
    "df"
   ]
  },
  {
   "cell_type": "code",
   "execution_count": 17,
   "id": "0c79189c-8bfe-4872-aab5-202039193f70",
   "metadata": {},
   "outputs": [
    {
     "data": {
      "image/png": "[encoded data removed]",
      "text/plain": [
       "<Figure size 1080x720 with 6 Axes>"
      ]
     },
     "metadata": {
      "needs_background": "light"
     },
     "output_type": "display_data"
    }
   ],
   "source": [
    "# Generate Figures!\n",
    "\n",
    "# Create folders for each lobe\n",
    "lobes = ['Left', 'Right', 'Whole']\n",
    "for lobe in lobes:\n",
    "    os.makedirs(lobe, exist_ok=True)\n",
    "\n",
    "for num in range(0, len(df)):\n",
    "    # Grab all of the needed values from the dataframe\n",
    "    sizes_log = np.log(df['Sizes'][num])\n",
    "    sizes_log_half = (sizes_log[1:] + sizes_log[:-1]) / 2\n",
    "    counts_log = np.log(df['Counts'][num])\n",
    "    coeffs = df['Coefficients'][num]\n",
    "    r_squared = df['R_Squared'][num]\n",
    "    residuals = df['Residuals'][num]\n",
    "    pairwise_slopes = df['Pairwise_Slopes'][num]\n",
    "    fd = df['Fractal_Dimension'][num]\n",
    "    sid = df['SID'][num]\n",
    "    lobe = df['Lobe'][num]\n",
    "    art_vein = df['Artery_Or_Vein'][num]\n",
    "\n",
    "    fig, axes = plt.subplots(2, 3, figsize=(15, 10))\n",
    "\n",
    "    plt.suptitle(f'{sid} (FD: {fd:.4f})', fontsize='xx-large')\n",
    "\n",
    "    # Log Size vs Log Count w/ Linear Fit\n",
    "    axes[0, 0].plot(sizes_log, np.polyval(coeffs, sizes_log), 'r--')\n",
    "    axes[0, 0].scatter(sizes_log, counts_log, c='k', marker='x')\n",
    "    axes[0, 0].set_title('Log Data w/ Linear Fit')\n",
    "    axes[0, 0].set_xlabel('Sizes (log e)')\n",
    "    axes[0, 0].set_ylabel('Box Counts (log e)')\n",
    "\n",
    "    # Residuals w/ Mean Line\n",
    "    axes[0, 1].hlines(0, min(sizes_log), max(sizes_log), colors='r', linestyles='dashed')\n",
    "    axes[0, 1].scatter(sizes_log, residuals, c='k', marker='x')\n",
    "    axes[0, 1].set_title('Residuals')\n",
    "    axes[0, 1].set_xlabel('Sizes (log e)')\n",
    "    axes[0, 1].set_ylabel('Residual')\n",
    "    yabs_max = abs(max(axes[0, 1].get_ylim(), key=abs))\n",
    "    axes[0, 1].set_ylim(-yabs_max, yabs_max)\n",
    "\n",
    "    # Residuals Hist\n",
    "    axes[0, 2].hist(residuals, orientation='horizontal')\n",
    "    axes[0, 2].set_title('Residuals Histogram')\n",
    "    axes[0, 2].set_xlabel('Counts')\n",
    "    axes[0, 2].set_ylabel('Residuals')\n",
    "    axes[0, 2].set_ylim(-yabs_max, yabs_max)\n",
    "    axes[0, 2].set_xticks([i for i in axes[0, 2].get_xticks() if not i % 1])\n",
    "\n",
    "    # Pairwise_Slope w/ FD Line\n",
    "    axes[1, 1].hlines(fd, min(sizes_log), max(sizes_log), colors='r', linestyles='dashed')\n",
    "    axes[1, 1].scatter(sizes_log_half, -pairwise_slopes, c='k', marker='x')\n",
    "    axes[1, 1].set_title('FD Estimates via Pairwise Slope')\n",
    "    axes[1, 1].set_xlabel('Sizes (log e)')\n",
    "    axes[1, 1].set_ylabel('FD Estimates')\n",
    "#     axes[1, 1].text(max(sizes_log)-4.1, fd+0.02, f'FD = {fd:.5}')\n",
    "    axes[1, 1].text(0.7, fd+0.02, f'FD = {fd:.5}')\n",
    "    yabs_max = abs(max(axes[1, 1].get_ylim()-fd, key=abs))\n",
    "    axes[1, 1].set_ylim(fd-yabs_max, fd+yabs_max)\n",
    "\n",
    "    # Pairwise_Slope Hist\n",
    "    axes[1, 2].hist(-pairwise_slopes, orientation='horizontal')\n",
    "    axes[1, 2].set_title('FD Estimates Histogram')\n",
    "    axes[1, 2].set_xlabel('Counts')\n",
    "    axes[1, 2].set_ylabel('FD Estimates')\n",
    "    axes[1, 2].set_ylim(fd-yabs_max, fd+yabs_max)\n",
    "    axes[1, 2].set_xticks([i for i in axes[1, 2].get_xticks() if not i % 1])\n",
    "\n",
    "    # Data Table\n",
    "    fd_estimate_mean = np.mean(-pairwise_slopes)\n",
    "    fd_estimate_std = np.std(-pairwise_slopes)\n",
    "    \n",
    "    # Table: Only display powers of 2 (ManySize)\n",
    "    ind = list(2**np.arange(np.log2(df['Sizes'][num][0]), dtype=int)-1)\n",
    "    sizes = df['Sizes'][num][::-1][ind]\n",
    "    boxes = df['Counts'][num][::-1][ind]\n",
    "    \n",
    "#     # Table: Only display mutiples of 2\n",
    "#     sizes = df['Sizes'][num][::-2]\n",
    "#     boxes = df['Counts'][num][::-2]\n",
    "    \n",
    "    # Add to Table\n",
    "    cells = [['Sizes', 'Box Counts']]\n",
    "    for size, count in zip(sizes, boxes):\n",
    "        cells.append([str(size), str(count)])\n",
    "    for i in range(0, 12-len(sizes)):\n",
    "        cells.append(['', ''])\n",
    "\n",
    "    cells.append(['Fractal Dimension', f'{fd:.4f}'])\n",
    "    cells.append(['Linear Fit', f'y = {coeffs[0]:.4f}x + {coeffs[1]:.4f}'])\n",
    "    cells.append(['R Squared', f'{r_squared:.4f}'])\n",
    "    cells.append(['FD Estimate Mean', f'{fd_estimate_mean:.4f} +/- {fd_estimate_std:.4f}'])\n",
    "    cells.append(['Lobe', f'{lobe.capitalize()}'])\n",
    "    cells.append(['Artery/Vein', f'{art_vein.capitalize()}'])\n",
    "\n",
    "    axes[1, 0].axis('tight')\n",
    "    axes[1, 0].axis('off')\n",
    "    table = axes[1, 0].table(cells, cellLoc='left', loc='upper center')\n",
    "\n",
    "    # More Table Shenanigans\n",
    "    table.auto_set_font_size(False)\n",
    "    table.set_fontsize(11)\n",
    "    for c in table.get_celld().values():\n",
    "        c.visible_edges = ''\n",
    "    table[(0, 0)].visible_edges = 'B'\n",
    "    table[(0, 1)].visible_edges = 'B'\n",
    "\n",
    "    plt.tight_layout()\n",
    "#     plt.savefig(f'{lobe.capitalize()}/{sid}_{lobe}LungVesselParticles_stats.png', facecolor=(1, 1, 1, 1), edgecolor='none')\n",
    "    plt.savefig(f'{lobe.capitalize()}/{sid}_{lobe}LungVesselParticlesConnected{art_vein.capitalize()}_stats.png', facecolor=(1, 1, 1, 1), edgecolor='none')\n",
    "    \n",
    "#     if num > 1:\n",
    "#         break\n",
    "    \n",
    "    # Close all figures except for the first to double check\n",
    "    if num > 0:\n",
    "        plt.close(fig)"
   ]
  },
  {
   "cell_type": "code",
   "execution_count": 10,
   "id": "ccf8a4fb-0f3b-4272-baf8-3893744cd856",
   "metadata": {},
   "outputs": [
    {
     "name": "stdout",
     "output_type": "stream",
     "text": [
      "[0, 1, 3, 7, 15, 31, 63]\n",
      "[ 2  3  5  9 17 33 65]\n",
      "[178507  72913  25381   7901   1949    367     69]\n"
     ]
    }
   ],
   "source": [
    "ind = list(2**np.arange(np.log2(df['Sizes'][num][0]), dtype=int)-1)\n",
    "sizes = df['Sizes'][num][::-1][ind]\n",
    "boxes = df['Counts'][num][::-1][ind]\n",
    "\n",
    "print(ind)\n",
    "print(sizes)\n",
    "print(boxes)"
   ]
  },
  {
   "cell_type": "code",
   "execution_count": 13,
   "id": "48bb18af-42dd-4a1d-b325-a815b98c1663",
   "metadata": {},
   "outputs": [
    {
     "data": {
      "text/plain": [
       "array([ 2,  3,  5,  9, 17, 33, 65])"
      ]
     },
     "execution_count": 13,
     "metadata": {},
     "output_type": "execute_result"
    }
   ],
   "source": [
    "df['Sizes'][num][::-1][ind]"
   ]
  },
  {
   "cell_type": "code",
   "execution_count": 177,
   "id": "ed8769ca-b0c6-45dc-9d15-749c7b468a0a",
   "metadata": {},
   "outputs": [],
   "source": [
    "# Calculate the means / SD for pairwise slopes @ FD < 2 and FD > 3 for each lobe\n",
    "keys = ['left', 'right', 'whole']\n",
    "upper = {key: [] for key in keys}\n",
    "lower = {key: [] for key in keys}\n",
    "\n",
    "for num in range(0, len(df)):\n",
    "    lobe = df['Lobe'][num]\n",
    "    \n",
    "    # FD > 3 and FD < 2\n",
    "    upper[lobe].append(df['Sizes'][num][::-1][np.argmax(-df['Pairwise_Slopes'][num][::-1] > 3)])\n",
    "    lower[lobe].append(df['Sizes'][num][::-1][np.argmax(-df['Pairwise_Slopes'][num][::-1] < 2)])\n",
    "\n",
    "for key in keys:\n",
    "    "
   ]
  },
  {
   "cell_type": "code",
   "execution_count": 184,
   "id": "181c1d5e-f1c4-40ee-86a1-158850098b75",
   "metadata": {},
   "outputs": [
    {
     "data": {
      "text/plain": [
       "['left Mean: 40.54222222222222 +/- 8.774166345683698',\n",
       " 'right Mean: 40.60444444444445 +/- 8.37928545231382',\n",
       " 'whole Mean: 47.10619469026549 +/- 8.950070778242317']"
      ]
     },
     "metadata": {},
     "output_type": "display_data"
    },
    {
     "data": {
      "text/plain": [
       "['left Mean: 33.093333333333334 +/- 6.176313175709636',\n",
       " 'right Mean: 35.26222222222222 +/- 6.26295240597485',\n",
       " 'whole Mean: 36.610619469026545 +/- 6.686313624243545']"
      ]
     },
     "metadata": {},
     "output_type": "display_data"
    }
   ],
   "source": [
    "display([f'{key} Mean: {np.mean(upper[key])} +/- {np.std(upper[key])}' for key in keys])\n",
    "display([f'{key} Mean: {np.mean(lower[key])} +/- {np.std(lower[key])}' for key in keys])"
   ]
  },
  {
   "cell_type": "code",
   "execution_count": 6,
   "id": "81005161-0459-4e6b-9b84-87ceca4b945e",
   "metadata": {},
   "outputs": [],
   "source": [
    "# Find linear fits for the points near when residuals are 0\n",
    "\n",
    "# cells = [['SID', 'Lobe', 'Artery_Or_Vein', 'Fractal_Dimension', 'Linear_Fit', 'R_Squared', 'FD_@_1st_Root', 'FD_@_2nd_Root', 'FD_@_Positive_Residuals']]\n",
    "cells = [['SID', 'Lobe', 'Artery_Or_Vein', 'Fractal_Dimension', 'Linear_Fit', 'R_Squared']]\n",
    "for num in range(0, len(df)):\n",
    "    # Grab all of the needed values from the dataframe\n",
    "    sizes_log = np.log(df['Sizes'][num])\n",
    "    sizes_log_half = (sizes_log[1:] + sizes_log[:-1]) / 2\n",
    "    counts_log = np.log(df['Counts'][num])\n",
    "    coeffs = df['Coefficients'][num]\n",
    "    r_squared = df['R_Squared'][num]\n",
    "    residuals = df['Residuals'][num]\n",
    "    pairwise_slopes = df['Pairwise_Slopes'][num]\n",
    "    fd = df['Fractal_Dimension'][num]\n",
    "    sid = df['SID'][num]\n",
    "    lobe = df['Lobe'][num]\n",
    "    art_vein = df['Artery_Or_Vein'][num]\n",
    "\n",
    "#     zero_crossings = np.where(np.diff(np.sign(np.array(residuals))))[0]\n",
    "#     if len(zero_crossings) > 2:\n",
    "#         display(f'{sid}_{lobe}')\n",
    "#         continue\n",
    "    \n",
    "#     # Fits\n",
    "#     residuals_poly = []\n",
    "#     counts_poly = []\n",
    "#     for i, c in enumerate(zero_crossings):\n",
    "#         residuals_poly.append(np.polynomial.polynomial.Polynomial.fit(x=sizes_log[c-1:c+3], y=residuals[c-1:c+3], deg=1, domain=[]))\n",
    "#         counts_poly.append(np.polynomial.polynomial.Polynomial.fit(x=sizes_log[c-1:c+3], y=counts_log[c-1:c+3], deg=1, domain=[]))\n",
    "    \n",
    "#     counts_with_pos_residuals_poly = np.polynomial.polynomial.Polynomial.fit(x=sizes_log[residuals > 0], y=counts_log[residuals > 0], deg=1, domain=[])\n",
    "    \n",
    "    # See initialization of cells variable for labels\n",
    "#     cells.append([\n",
    "#         f'{sid}',\n",
    "#         f'{lobe}',\n",
    "#         f'{art_vein}',\n",
    "#         f'{fd:.4f}',\n",
    "#         f'y = {coeffs[0]:.4f}x + {coeffs[1]:.4f}',\n",
    "#         f'{r_squared}',\n",
    "#         f'{-counts_poly[0].coef[1]:.4f}',\n",
    "#         f'{-counts_poly[1].coef[1]:.4f}',\n",
    "#         f'{-counts_with_pos_residuals_poly.coef[1]:.4f}',\n",
    "#     ])\n",
    "\n",
    "    cells.append([\n",
    "        f'{sid}',\n",
    "        f'{lobe}',\n",
    "        f'{art_vein}',\n",
    "        f'{fd:.4f}',\n",
    "        f'y = {coeffs[0]:.4f}x + {coeffs[1]:.4f}',\n",
    "        f'{r_squared}',\n",
    "    ])\n",
    "    \n",
    "f = open(f'FDs_20SizeBy1_ArtVein_combined.csv', 'w')\n",
    "writer = csv.writer(f, delimiter=',', lineterminator='\\n')\n",
    "for x in cells:\n",
    "    writer.writerow(x)\n",
    "\n",
    "f.close()"
   ]
  },
  {
   "cell_type": "code",
   "execution_count": 24,
   "id": "0498b3c7-0dca-432c-85aa-418fd33f449d",
   "metadata": {},
   "outputs": [
    {
     "data": {
      "text/plain": [
       "'016_pect_phfirst_022713_left'"
      ]
     },
     "metadata": {},
     "output_type": "display_data"
    },
    {
     "data": {
      "text/plain": [
       "'078_pect_phfirst_061113_left'"
      ]
     },
     "metadata": {},
     "output_type": "display_data"
    },
    {
     "data": {
      "text/plain": [
       "'078_pect_phfirst_061113_whole'"
      ]
     },
     "metadata": {},
     "output_type": "display_data"
    },
    {
     "data": {
      "text/plain": [
       "'081_pect_phfirst_031213_left'"
      ]
     },
     "metadata": {},
     "output_type": "display_data"
    },
    {
     "data": {
      "text/plain": [
       "'081_pect_phfirst_031213_whole'"
      ]
     },
     "metadata": {},
     "output_type": "display_data"
    },
    {
     "data": {
      "text/plain": [
       "'093_pect_phfrist_111612_left'"
      ]
     },
     "metadata": {},
     "output_type": "display_data"
    },
    {
     "data": {
      "text/plain": [
       "'117_pect_phfirst_021414_left'"
      ]
     },
     "metadata": {},
     "output_type": "display_data"
    },
    {
     "data": {
      "text/plain": [
       "'117_pect_phfirst_021414_whole'"
      ]
     },
     "metadata": {},
     "output_type": "display_data"
    },
    {
     "data": {
      "text/plain": [
       "'119_pect_phfirst_102414_right'"
      ]
     },
     "metadata": {},
     "output_type": "display_data"
    },
    {
     "data": {
      "text/plain": [
       "'119_pect_phfirst_102414_whole'"
      ]
     },
     "metadata": {},
     "output_type": "display_data"
    },
    {
     "data": {
      "text/plain": [
       "'135_pect_phfirst_102413_left'"
      ]
     },
     "metadata": {},
     "output_type": "display_data"
    },
    {
     "data": {
      "text/plain": [
       "'141_pect_phfirst_080115_left'"
      ]
     },
     "metadata": {},
     "output_type": "display_data"
    },
    {
     "data": {
      "text/plain": [
       "'150_pect_phfirst_111512_left'"
      ]
     },
     "metadata": {},
     "output_type": "display_data"
    },
    {
     "data": {
      "text/plain": [
       "'175_pect_phfirst_093015_left'"
      ]
     },
     "metadata": {},
     "output_type": "display_data"
    },
    {
     "data": {
      "text/plain": [
       "'186_pect_phfirst_031014_whole'"
      ]
     },
     "metadata": {},
     "output_type": "display_data"
    },
    {
     "data": {
      "text/plain": [
       "'190_pect_phfirst_110514_right'"
      ]
     },
     "metadata": {},
     "output_type": "display_data"
    },
    {
     "data": {
      "text/plain": [
       "'238_pect_phfirst_081616_whole'"
      ]
     },
     "metadata": {},
     "output_type": "display_data"
    },
    {
     "data": {
      "text/plain": [
       "'300_pect_phfirst_091415_left'"
      ]
     },
     "metadata": {},
     "output_type": "display_data"
    },
    {
     "data": {
      "text/plain": [
       "'320_pect_phfirst_120817_left'"
      ]
     },
     "metadata": {},
     "output_type": "display_data"
    },
    {
     "data": {
      "text/plain": [
       "'325_pect_phfirst_020818_whole'"
      ]
     },
     "metadata": {},
     "output_type": "display_data"
    },
    {
     "data": {
      "text/plain": [
       "'338_pect_phfirst_051517_left'"
      ]
     },
     "metadata": {},
     "output_type": "display_data"
    },
    {
     "data": {
      "text/plain": [
       "'338_pect_phfirst_051517_right'"
      ]
     },
     "metadata": {},
     "output_type": "display_data"
    },
    {
     "data": {
      "text/plain": [
       "'338_pect_phfirst_051517_whole'"
      ]
     },
     "metadata": {},
     "output_type": "display_data"
    },
    {
     "data": {
      "text/plain": [
       "'342_pect_phfirst_011618_right'"
      ]
     },
     "metadata": {},
     "output_type": "display_data"
    },
    {
     "data": {
      "text/plain": [
       "'344_pect_phfirst_041118_right'"
      ]
     },
     "metadata": {},
     "output_type": "display_data"
    },
    {
     "data": {
      "text/plain": [
       "'348_pect_phfirst_061218_left'"
      ]
     },
     "metadata": {},
     "output_type": "display_data"
    },
    {
     "data": {
      "image/png": "[encoded data removed]",
      "text/plain": [
       "<Figure size 1080x720 with 6 Axes>"
      ]
     },
     "metadata": {
      "needs_background": "light"
     },
     "output_type": "display_data"
    }
   ],
   "source": [
    "# Find linear fits for the points near when residuals are 0\n",
    "\n",
    "# Create folders for each lobe\n",
    "lobes = ['Left', 'Right', 'Whole']\n",
    "for lobe in lobes:\n",
    "    os.makedirs(lobe, exist_ok=True)\n",
    "\n",
    "for num in range(0, len(df)):\n",
    "    # Grab all of the needed values from the dataframe\n",
    "    sizes_log = np.log(df['Sizes'][num])\n",
    "    sizes_log_half = (sizes_log[1:] + sizes_log[:-1]) / 2\n",
    "    counts_log = np.log(df['Counts'][num])\n",
    "    coeffs = df['Coefficients'][num]\n",
    "    r_squared = df['R_Squared'][num]\n",
    "    residuals = df['Residuals'][num]\n",
    "    pairwise_slopes = df['Pairwise_Slopes'][num]\n",
    "    fd = df['Fractal_Dimension'][num]\n",
    "    sid = df['SID'][num]\n",
    "    lobe = df['Lobe'][num]\n",
    "\n",
    "    zero_crossings = np.where(np.diff(np.sign(np.array(residuals))))[0]\n",
    "    if len(zero_crossings) > 2:\n",
    "        display(f'{sid}_{lobe}')\n",
    "        continue\n",
    "    zero_crossings = zero_crossings[::-1]\n",
    "    \n",
    "    # Fits\n",
    "    residuals_poly = []\n",
    "    counts_poly = []\n",
    "    for i, c in enumerate(zero_crossings):\n",
    "        residuals_poly.append(np.polynomial.polynomial.Polynomial.fit(x=sizes_log[c-1:c+3], y=residuals[c-1:c+3], deg=1, domain=[]))\n",
    "        counts_poly.append(np.polynomial.polynomial.Polynomial.fit(x=sizes_log[c-1:c+3], y=counts_log[c-1:c+3], deg=1, domain=[]))\n",
    "\n",
    "    fig, axes = plt.subplots(2, 3, figsize=(15, 10))\n",
    "\n",
    "    plt.suptitle(f'{sid}_{lobe} (FD: {fd:.4f})', fontsize='xx-large')\n",
    "    \n",
    "    # Log Size vs Log Count w/ Poly Fit\n",
    "    axes[0, 0].plot(sizes_log, np.polyval(coeffs, sizes_log), 'r--')\n",
    "    axes[0, 0].scatter(sizes_log, counts_log, c='k', marker='x')\n",
    "    for i, c in enumerate(zero_crossings):\n",
    "        poly = counts_poly[i]\n",
    "        axes[0, 0].plot(sizes_log[c-1:c+3], poly(sizes_log[c-1:c+3]), 'b--')\n",
    "    axes[0, 0].set_title('Log Data w/ Linear Fit')\n",
    "    axes[0, 0].set_xlabel('Sizes (log e)')\n",
    "    axes[0, 0].set_ylabel('Box Counts (log e)')\n",
    "\n",
    "    # Residuals w/ Mean Line\n",
    "    axes[0, 1].hlines(0, min(sizes_log), max(sizes_log), colors='r', linestyles='dashed')\n",
    "    axes[0, 1].scatter(sizes_log, residuals, c='k', marker='x')\n",
    "    for i, c in enumerate(zero_crossings):\n",
    "        poly = residuals_poly[i]\n",
    "        axes[0, 1].plot(sizes_log[c-1:c+3], poly(sizes_log[c-1:c+3]), 'b--')\n",
    "    axes[0, 1].set_title('Original Linear Fit Residuals')\n",
    "    axes[0, 1].set_xlabel('Sizes (log e)')\n",
    "    axes[0, 1].set_ylabel('Residual')\n",
    "    yabs_max = abs(max(axes[0, 1].get_ylim(), key=abs))\n",
    "    axes[0, 1].set_ylim(-yabs_max, yabs_max)\n",
    "    \n",
    "    # Residuals from Fit @ 1st and 2nd Roots\n",
    "    for i, c in enumerate(zero_crossings):\n",
    "        poly = counts_poly[i]\n",
    "        residuals = counts_log[c-1:c+3]-poly(sizes_log[c-1:c+3])\n",
    "        axes[1, i].hlines(0, min(sizes_log[c-1:c+3]), max(sizes_log[c-1:c+3]), colors='b', linestyles='dashed')\n",
    "        axes[1, i].scatter(sizes_log[c-1:c+3], residuals, c='k', marker='x')\n",
    "        if i:\n",
    "            title = 'Residuals @ 2nd Root'\n",
    "        else:\n",
    "            title = 'Residuals @ 1st Root'\n",
    "        axes[1, i].set_title(title)\n",
    "        axes[1, i].set_xlabel('Sizes (log e)')\n",
    "        axes[1, i].set_ylabel('Residual')\n",
    "        yabs_max = abs(max(axes[1, i].get_ylim(), key=abs))\n",
    "        axes[1, i].set_ylim(-yabs_max, yabs_max)\n",
    "    \n",
    "    # Remove last graph\n",
    "    axes[1, 2].axis('tight')\n",
    "    axes[1, 2].axis('off')\n",
    "    \n",
    "    # Add to Table\n",
    "    cells = []\n",
    "    cells.append(['Fractal Dimension', f'{fd:.4f}'])\n",
    "    cells.append(['Linear Fit', f'y = {coeffs[0]:.4f}x + {coeffs[1]:.4f}'])\n",
    "    cells.append(['FD @ 1st Root', f'{-counts_poly[0].coef[1]:.4f}'])\n",
    "    cells.append(['FD @ 2nd Root', f'{-counts_poly[1].coef[1]:.4f}'])\n",
    "    \n",
    "    axes[0, 2].axis('tight')\n",
    "    axes[0, 2].axis('off')\n",
    "    table = axes[0, 2].table(cells, cellLoc='left', loc='upper center')\n",
    "\n",
    "    # More Table Shenanigans\n",
    "    table.auto_set_font_size(False)\n",
    "    table.set_fontsize(11)\n",
    "    for c in table.get_celld().values():\n",
    "        c.visible_edges = ''\n",
    "#     table[(0, 0)].visible_edges = 'B'\n",
    "#     table[(0, 1)].visible_edges = 'B'\n",
    "\n",
    "    plt.tight_layout()\n",
    "    plt.savefig(f'{lobe.capitalize()}/{sid}_{lobe}LungVesselParticles_stats.png', facecolor=(1, 1, 1, 1), edgecolor='none')\n",
    "    \n",
    "#     if num > 1:\n",
    "#         break\n",
    "    \n",
    "    # Close all figures except for the first to double check\n",
    "    if num > 0:\n",
    "        plt.close(fig)"
   ]
  },
  {
   "cell_type": "code",
   "execution_count": null,
   "id": "fb0a8c2f-98eb-4d42-bbab-368c584a1695",
   "metadata": {},
   "outputs": [],
   "source": []
  }
 ],
 "metadata": {
  "kernelspec": {
   "display_name": "Python 3",
   "language": "python",
   "name": "python3"
  },
  "language_info": {
   "codemirror_mode": {
    "name": "ipython",
    "version": 3
   },
   "file_extension": ".py",
   "mimetype": "text/x-python",
   "name": "python",
   "nbconvert_exporter": "python",
   "pygments_lexer": "ipython3",
   "version": "3.9.5"
  }
 },
 "nbformat": 4,
 "nbformat_minor": 5
}
